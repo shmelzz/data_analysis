{
 "cells": [
  {
   "cell_type": "markdown",
   "id": "e24c94e3",
   "metadata": {
    "pycharm": {
     "name": "#%% md\n"
    }
   },
   "source": [
    "# HSE 2021: Mathematical Methods for Data Analysis\n",
    "\n",
    "## Homework 5"
   ]
  },
  {
   "cell_type": "markdown",
   "id": "ba866020",
   "metadata": {
    "pycharm": {
     "name": "#%% md\n"
    }
   },
   "source": [
    "### Contents\n",
    "\n",
    "#### PCA, t-SNE – 4 points\n",
    "* [Task 1](#task1) (1.5 points)\n",
    "* [Task 2](#task2) (0.5 points)\n",
    "* [Task 3](#task3) (0.5 points)\n",
    "* [Task 4](#task3) (1 points)\n",
    "* [Task 5](#task4) (0.5 points)\n",
    "\n",
    "#### Clustering – 6 points\n",
    "* [Task 5](#task5) (1.5 points)\n",
    "* [Task 6](#task6) (1.5 points)\n",
    "* [Task 7](#task7) (1.5 points)\n",
    "* [Task 8](#task8) (0.5 point)\n",
    "* [Task 9](#task8) (1 point)"
   ]
  },
  {
   "cell_type": "markdown",
   "id": "f1219c4c",
   "metadata": {
    "pycharm": {
     "name": "#%% md\n"
    }
   },
   "source": [
    "Load the file `data_Mar_64.txt`."
   ]
  },
  {
   "cell_type": "code",
   "execution_count": 2,
   "id": "93fa00a4",
   "metadata": {
    "pycharm": {
     "name": "#%%\n"
    }
   },
   "outputs": [
    {
     "data": {
      "text/plain": "               0         1         2         3         4         5         6   \\\n0  Acer Campestre  0.003906  0.003906  0.027344  0.033203  0.007812  0.017578   \n1  Acer Campestre  0.005859  0.013672  0.027344  0.025391  0.013672  0.029297   \n2  Acer Campestre  0.011719  0.001953  0.027344  0.044922  0.017578  0.042969   \n3  Acer Campestre  0.013672  0.011719  0.037109  0.017578  0.011719  0.087891   \n4  Acer Campestre  0.007812  0.009766  0.027344  0.025391  0.001953  0.005859   \n\n         7         8         9   ...        55        56        57        58  \\\n0  0.023438  0.005859  0.000000  ...  0.011719  0.000000  0.005859  0.035156   \n1  0.019531  0.000000  0.001953  ...  0.017578  0.000000  0.021484  0.017578   \n2  0.023438  0.000000  0.003906  ...  0.035156  0.000000  0.015625  0.021484   \n3  0.023438  0.000000  0.000000  ...  0.015625  0.001953  0.021484  0.029297   \n4  0.015625  0.000000  0.005859  ...  0.023438  0.001953  0.021484  0.048828   \n\n         59        60        61        62        63   64  \n0  0.027344  0.033203  0.001953  0.000000  0.017578  0.0  \n1  0.046875  0.005859  0.003906  0.003906  0.046875  0.0  \n2  0.056641  0.009766  0.003906  0.000000  0.015625  0.0  \n3  0.033203  0.003906  0.000000  0.001953  0.027344  0.0  \n4  0.056641  0.019531  0.000000  0.000000  0.013672  0.0  \n\n[5 rows x 65 columns]",
      "text/html": "<div>\n<style scoped>\n    .dataframe tbody tr th:only-of-type {\n        vertical-align: middle;\n    }\n\n    .dataframe tbody tr th {\n        vertical-align: top;\n    }\n\n    .dataframe thead th {\n        text-align: right;\n    }\n</style>\n<table border=\"1\" class=\"dataframe\">\n  <thead>\n    <tr style=\"text-align: right;\">\n      <th></th>\n      <th>0</th>\n      <th>1</th>\n      <th>2</th>\n      <th>3</th>\n      <th>4</th>\n      <th>5</th>\n      <th>6</th>\n      <th>7</th>\n      <th>8</th>\n      <th>9</th>\n      <th>...</th>\n      <th>55</th>\n      <th>56</th>\n      <th>57</th>\n      <th>58</th>\n      <th>59</th>\n      <th>60</th>\n      <th>61</th>\n      <th>62</th>\n      <th>63</th>\n      <th>64</th>\n    </tr>\n  </thead>\n  <tbody>\n    <tr>\n      <th>0</th>\n      <td>Acer Campestre</td>\n      <td>0.003906</td>\n      <td>0.003906</td>\n      <td>0.027344</td>\n      <td>0.033203</td>\n      <td>0.007812</td>\n      <td>0.017578</td>\n      <td>0.023438</td>\n      <td>0.005859</td>\n      <td>0.000000</td>\n      <td>...</td>\n      <td>0.011719</td>\n      <td>0.000000</td>\n      <td>0.005859</td>\n      <td>0.035156</td>\n      <td>0.027344</td>\n      <td>0.033203</td>\n      <td>0.001953</td>\n      <td>0.000000</td>\n      <td>0.017578</td>\n      <td>0.0</td>\n    </tr>\n    <tr>\n      <th>1</th>\n      <td>Acer Campestre</td>\n      <td>0.005859</td>\n      <td>0.013672</td>\n      <td>0.027344</td>\n      <td>0.025391</td>\n      <td>0.013672</td>\n      <td>0.029297</td>\n      <td>0.019531</td>\n      <td>0.000000</td>\n      <td>0.001953</td>\n      <td>...</td>\n      <td>0.017578</td>\n      <td>0.000000</td>\n      <td>0.021484</td>\n      <td>0.017578</td>\n      <td>0.046875</td>\n      <td>0.005859</td>\n      <td>0.003906</td>\n      <td>0.003906</td>\n      <td>0.046875</td>\n      <td>0.0</td>\n    </tr>\n    <tr>\n      <th>2</th>\n      <td>Acer Campestre</td>\n      <td>0.011719</td>\n      <td>0.001953</td>\n      <td>0.027344</td>\n      <td>0.044922</td>\n      <td>0.017578</td>\n      <td>0.042969</td>\n      <td>0.023438</td>\n      <td>0.000000</td>\n      <td>0.003906</td>\n      <td>...</td>\n      <td>0.035156</td>\n      <td>0.000000</td>\n      <td>0.015625</td>\n      <td>0.021484</td>\n      <td>0.056641</td>\n      <td>0.009766</td>\n      <td>0.003906</td>\n      <td>0.000000</td>\n      <td>0.015625</td>\n      <td>0.0</td>\n    </tr>\n    <tr>\n      <th>3</th>\n      <td>Acer Campestre</td>\n      <td>0.013672</td>\n      <td>0.011719</td>\n      <td>0.037109</td>\n      <td>0.017578</td>\n      <td>0.011719</td>\n      <td>0.087891</td>\n      <td>0.023438</td>\n      <td>0.000000</td>\n      <td>0.000000</td>\n      <td>...</td>\n      <td>0.015625</td>\n      <td>0.001953</td>\n      <td>0.021484</td>\n      <td>0.029297</td>\n      <td>0.033203</td>\n      <td>0.003906</td>\n      <td>0.000000</td>\n      <td>0.001953</td>\n      <td>0.027344</td>\n      <td>0.0</td>\n    </tr>\n    <tr>\n      <th>4</th>\n      <td>Acer Campestre</td>\n      <td>0.007812</td>\n      <td>0.009766</td>\n      <td>0.027344</td>\n      <td>0.025391</td>\n      <td>0.001953</td>\n      <td>0.005859</td>\n      <td>0.015625</td>\n      <td>0.000000</td>\n      <td>0.005859</td>\n      <td>...</td>\n      <td>0.023438</td>\n      <td>0.001953</td>\n      <td>0.021484</td>\n      <td>0.048828</td>\n      <td>0.056641</td>\n      <td>0.019531</td>\n      <td>0.000000</td>\n      <td>0.000000</td>\n      <td>0.013672</td>\n      <td>0.0</td>\n    </tr>\n  </tbody>\n</table>\n<p>5 rows × 65 columns</p>\n</div>"
     },
     "execution_count": 2,
     "metadata": {},
     "output_type": "execute_result"
    }
   ],
   "source": [
    "import pandas as pd\n",
    "data = pd.read_csv('data_Mar_64.txt', header=None)\n",
    "data.head()"
   ]
  },
  {
   "cell_type": "markdown",
   "id": "d92115a5",
   "metadata": {
    "pycharm": {
     "name": "#%% md\n"
    }
   },
   "source": [
    "This [dataset](https://archive.ics.uci.edu/ml/datasets/One-hundred+plant+species+leaves+data+set) consists of work carried out by James Cope, Charles Mallah, and James Orwell, Kingston University London. The Leaves were collected in the Royal Botanic Gardens, Kew, UK. \n",
    "\n",
    "For Each feature, a 64 element vector is given per sample of leaf. One file for each 64-element feature vectors. **Each row begins with the class label**. Here is the plant leaf **classification task**. The remaining 64 elements is the feature vector."
   ]
  },
  {
   "cell_type": "code",
   "execution_count": 3,
   "id": "51c6c816",
   "metadata": {
    "pycharm": {
     "name": "#%%\n"
    }
   },
   "outputs": [
    {
     "data": {
      "text/plain": "(1600, 65)"
     },
     "execution_count": 3,
     "metadata": {},
     "output_type": "execute_result"
    }
   ],
   "source": [
    "#Sixteen samples of leaf each of one-hundred plant species\n",
    "data.shape"
   ]
  },
  {
   "cell_type": "markdown",
   "id": "b271bd53",
   "metadata": {
    "pycharm": {
     "name": "#%% md\n"
    }
   },
   "source": [
    "The first column is the target, put it in a separate variable."
   ]
  },
  {
   "cell_type": "code",
   "execution_count": 4,
   "id": "2bc767e8",
   "metadata": {
    "pycharm": {
     "name": "#%%\n"
    }
   },
   "outputs": [],
   "source": [
    "import numpy as np\n",
    "X, y_name = np.array(data.iloc[:, 1:]), data.iloc[:, 0]"
   ]
  },
  {
   "cell_type": "markdown",
   "id": "4c50cb05",
   "metadata": {
    "pycharm": {
     "name": "#%% md\n"
    }
   },
   "source": [
    "**Task 1. <a id=\"task1\"></a> (1.5 points)** Let's do the following pipeline (detailed instructions will be in next cells)\n",
    "\n",
    "- Encode your textual target.\n",
    "- Split your data into train and test. Train a simple classification model without any improvements and calculate metrics.\n",
    "- Then let's look at the low dimensional representations of the features and look at the classes there. We will use linear method PCA and non-linear t-SNE (t-distributed stochastic neighbor embedding). In this task we learn how to visualize data at the low dimensional space and check whether the obtained points are separable or not."
   ]
  },
  {
   "cell_type": "markdown",
   "id": "be850683",
   "metadata": {
    "pycharm": {
     "name": "#%% md\n"
    }
   },
   "source": [
    "The target variable takes a text value. Use the `LabelEncoder` from `sklearn` to encode the text variable `y_name` and save the resulting values to the variable `y`."
   ]
  },
  {
   "cell_type": "code",
   "execution_count": 5,
   "id": "9f0a721d",
   "metadata": {
    "pycharm": {
     "name": "#%%\n"
    }
   },
   "outputs": [],
   "source": [
    "from sklearn.preprocessing import LabelEncoder\n",
    "\n",
    "label_encoder = LabelEncoder()\n",
    "y = label_encoder.fit_transform(y_name)"
   ]
  },
  {
   "cell_type": "markdown",
   "id": "aa5b291f",
   "metadata": {
    "pycharm": {
     "name": "#%% md\n"
    }
   },
   "source": [
    "Split your data into **train** and **test** in proportion 1:4."
   ]
  },
  {
   "cell_type": "code",
   "execution_count": 15,
   "id": "6bc1e1ea",
   "metadata": {
    "pycharm": {
     "name": "#%%\n"
    }
   },
   "outputs": [],
   "source": [
    "from sklearn.model_selection import train_test_split\n",
    "\n",
    "x_train, x_test, y_train, y_test = train_test_split(X, y, test_size=0.2, random_state=42)"
   ]
  },
  {
   "cell_type": "markdown",
   "id": "ef305b94",
   "metadata": {
    "pycharm": {
     "name": "#%% md\n"
    }
   },
   "source": [
    "Train SVM with linear kernel on your data to predict target. Calculate accuracy, F-score."
   ]
  },
  {
   "cell_type": "code",
   "execution_count": 16,
   "id": "58cbfc6b",
   "metadata": {
    "pycharm": {
     "name": "#%%\n"
    }
   },
   "outputs": [],
   "source": [
    "from sklearn.svm import SVC\n",
    "from sklearn.metrics import *\n",
    "\n",
    "clf = SVC(kernel='linear', probability=True)\n",
    "clf.fit(x_train, y_train)\n",
    "prediction_test = clf.predict(x_test)\n",
    "prediction_train = clf.predict(x_train)"
   ]
  },
  {
   "cell_type": "code",
   "execution_count": 34,
   "outputs": [
    {
     "name": "stdout",
     "output_type": "stream",
     "text": [
      "Test scores:\n",
      "F1: 0.0075\n",
      "Accuracy: 0.0094\n",
      "\n",
      "Train scores:\n",
      "F1: 0.0164\n",
      "Accuracy: 0.0406\n"
     ]
    }
   ],
   "source": [
    "print('Test scores:')\n",
    "print(\"F1: {0:.4f}\".format(f1_score(y_test, prediction_test, average='macro')))\n",
    "print(\"Accuracy: {0:.4f}\".format(accuracy_score(y_test, prediction_test)))\n",
    "\n",
    "print('\\nTrain scores:')\n",
    "print(\"F1: {0:.4f}\".format(f1_score(y_train, prediction_train, average='macro')))\n",
    "print(\"Accuracy: {0:.4f}\".format(accuracy_score(y_train, prediction_train)))"
   ],
   "metadata": {
    "collapsed": false,
    "pycharm": {
     "name": "#%%\n"
    }
   }
  },
  {
   "cell_type": "markdown",
   "id": "257c577a",
   "metadata": {
    "pycharm": {
     "name": "#%% md\n"
    }
   },
   "source": [
    "Let's try Principal Component Analysis. Use the `PCA` method from `sklearn.decomposiion` to reduce the dimension of the feature space to two. Fix `random_state=42`"
   ]
  },
  {
   "cell_type": "code",
   "execution_count": 21,
   "id": "a265c3e9",
   "metadata": {
    "pycharm": {
     "name": "#%%\n"
    }
   },
   "outputs": [],
   "source": [
    "from sklearn.decomposition import PCA\n",
    "\n",
    "pca = PCA(n_components=2, random_state=42)\n",
    "X_reduced_pca = pca.fit_transform(X)"
   ]
  },
  {
   "cell_type": "markdown",
   "id": "f308e32b",
   "metadata": {
    "pycharm": {
     "name": "#%% md\n"
    }
   },
   "source": [
    "Select objects that match values from 0 to 15 of the target variable `y`. Draw the selected objects in a two-dimensional feature space using the `scatter` method from `matplotlib.pyplot`. To display objects of different classes in different colors, pass `c = y[y<=15]` to the `scatter` method."
   ]
  },
  {
   "cell_type": "code",
   "execution_count": 23,
   "id": "8b420bfa",
   "metadata": {
    "pycharm": {
     "name": "#%%\n"
    }
   },
   "outputs": [
    {
     "data": {
      "text/plain": "<matplotlib.collections.PathCollection at 0x7f7c127621f0>"
     },
     "execution_count": 23,
     "metadata": {},
     "output_type": "execute_result"
    },
    {
     "data": {
      "text/plain": "<Figure size 432x288 with 1 Axes>",
      "image/png": "[encoded data removed]"
     },
     "metadata": {
      "needs_background": "light"
     },
     "output_type": "display_data"
    }
   ],
   "source": [
    "import matplotlib.pyplot as plt\n",
    "%matplotlib inline\n",
    "\n",
    "scatter_x_pca = X_reduced_pca[y <= 15]\n",
    "plt.scatter(scatter_x_pca[:, 0], scatter_x_pca[:, 1], c=y[y <= 15])"
   ]
  },
  {
   "cell_type": "markdown",
   "id": "4d3cfc90",
   "metadata": {
    "pycharm": {
     "name": "#%% md\n"
    }
   },
   "source": [
    "Do the same procedure as in two previous cells, but now for the `TSNE` method from `sklearn.manifold`."
   ]
  },
  {
   "cell_type": "code",
   "execution_count": 51,
   "outputs": [],
   "source": [
    "from sklearn.manifold import TSNE\n",
    "\n",
    "tsne = TSNE(n_components=2, random_state=42, init='random', learning_rate='auto')\n",
    "X_reduced_tsne = tsne.fit_transform(X)"
   ],
   "metadata": {
    "collapsed": false,
    "pycharm": {
     "name": "#%%\n"
    }
   }
  },
  {
   "cell_type": "code",
   "execution_count": 52,
   "id": "689fe4fd",
   "metadata": {
    "pycharm": {
     "name": "#%%\n"
    }
   },
   "outputs": [
    {
     "data": {
      "text/plain": "<matplotlib.collections.PathCollection at 0x7f7c12f072e0>"
     },
     "execution_count": 52,
     "metadata": {},
     "output_type": "execute_result"
    },
    {
     "data": {
      "text/plain": "<Figure size 432x288 with 1 Axes>",
      "image/png": "[encoded data removed]"
     },
     "metadata": {
      "needs_background": "light"
     },
     "output_type": "display_data"
    }
   ],
   "source": [
    "scatter_x_tsne = X_reduced_tsne[y <= 15]\n",
    "plt.scatter(scatter_x_tsne[:, 0], scatter_x_tsne[:, 1], c=y[y <= 15])"
   ]
  },
  {
   "cell_type": "markdown",
   "id": "14cb1861",
   "metadata": {
    "pycharm": {
     "name": "#%% md\n"
    }
   },
   "source": [
    "**Task 2. <a id=\"task2\"></a> (0.5 points)** Specify the coordinates of the object with index 1 (`X[1]`) after applying the TSNE method. Round the numbers to hundredths."
   ]
  },
  {
   "cell_type": "code",
   "execution_count": 47,
   "id": "e7067352",
   "metadata": {
    "pycharm": {
     "name": "#%%\n"
    }
   },
   "outputs": [
    {
     "name": "stdout",
     "output_type": "stream",
     "text": [
      "Coordinate X: 2.32\n",
      "Coordinate Y: 11.06\n"
     ]
    }
   ],
   "source": [
    "cords_1_tsne = X_reduced_tsne[1, :]\n",
    "print(\"Coordinate X: {0:.2f}\".format(cords_1_tsne[0]))\n",
    "print(\"Coordinate Y: {0:.2f}\".format(cords_1_tsne[1]))"
   ]
  },
  {
   "cell_type": "markdown",
   "id": "6a462f26",
   "metadata": {
    "pycharm": {
     "name": "#%% md\n"
    }
   },
   "source": [
    "**Task 3. <a id=\"task3\"></a> (0.5 points)** Specify the coordinates of the object with index 1 (`X[1]`) after applying the PCA method. Round the numbers to hundredths."
   ]
  },
  {
   "cell_type": "code",
   "execution_count": 48,
   "id": "a429622a",
   "metadata": {
    "pycharm": {
     "name": "#%%\n"
    }
   },
   "outputs": [
    {
     "name": "stdout",
     "output_type": "stream",
     "text": [
      "Coordinate X: -0.02\n",
      "Coordinate Y: 0.02\n"
     ]
    }
   ],
   "source": [
    "cords_1_pca = X_reduced_pca[1, :]\n",
    "print(\"Coordinate X: {0:.2f}\".format(cords_1_pca[0]))\n",
    "print(\"Coordinate Y: {0:.2f}\".format(cords_1_pca[1]))"
   ]
  },
  {
   "cell_type": "markdown",
   "id": "77895bef",
   "metadata": {
    "pycharm": {
     "name": "#%% md\n"
    }
   },
   "source": [
    "**Task 4. <a id=\"task4\"></a> (1 points)** What conclusions can be drawn from the obtained images? Choose the right one(s).\n",
    "\n",
    "1) Using the principal components method, it was possible to visualize objects on a plane and objects of different classes are visually separable\n",
    "\n",
    "2) Using the TSNE method, it was possible to visualize objects on a plane and objects of different classes are visually separable\n",
    "\n",
    "3) Using the TSNE and PCA methods, it was possible to visualize objects on a plane and objects of different classes are visually separable\n",
    "\n",
    "4) Using the TSNE and PCA methods, it was possible to visualize objects on a plane and objects of different classes are not visually separable"
   ]
  },
  {
   "cell_type": "markdown",
   "id": "0cac5da8",
   "metadata": {
    "pycharm": {
     "name": "#%% md\n"
    }
   },
   "source": [
    "Ответ 2"
   ]
  },
  {
   "cell_type": "markdown",
   "id": "b0331123-4e41-4a0a-a27b-c1c3bec97066",
   "metadata": {
    "pycharm": {
     "name": "#%% md\n"
    }
   },
   "source": [
    "**Task 5. (0.5 points)** Again try to fit your simple classifier, this time using transformed data to two-dimensional space. To do it choose the best feature representation in your opinion from two existing. Did the metrics improve?"
   ]
  },
  {
   "cell_type": "code",
   "execution_count": 62,
   "id": "1f41b101-64e4-4e4d-8803-f221bbf7adb0",
   "metadata": {
    "pycharm": {
     "name": "#%%\n"
    }
   },
   "outputs": [],
   "source": [
    "x_train_tsne, x_test_tsne, y_train, y_test = train_test_split(X_reduced_tsne, y, test_size=0.2, random_state=42)"
   ]
  },
  {
   "cell_type": "code",
   "execution_count": 63,
   "outputs": [],
   "source": [
    "clf_reduced_x = SVC(kernel='linear', probability=True)\n",
    "clf_reduced_x.fit(x_train_tsne, y_train)\n",
    "prediction_test_tsne = clf_reduced_x.predict(x_test_tsne)\n",
    "prediction_train_tsne = clf_reduced_x.predict(x_train_tsne)"
   ],
   "metadata": {
    "collapsed": false,
    "pycharm": {
     "name": "#%%\n"
    }
   }
  },
  {
   "cell_type": "code",
   "execution_count": 64,
   "outputs": [
    {
     "name": "stdout",
     "output_type": "stream",
     "text": [
      "Test scores:\n",
      "F1: 0.6824\n",
      "Accuracy: 0.7031\n",
      "\n",
      "Train scores:\n",
      "F1: 0.7148\n",
      "Accuracy: 0.7328\n"
     ]
    }
   ],
   "source": [
    "print('Test scores:')\n",
    "print(\"F1: {0:.4f}\".format(f1_score(y_test, prediction_test_tsne, average='macro')))\n",
    "print(\"Accuracy: {0:.4f}\".format(accuracy_score(y_test, prediction_test_tsne)))\n",
    "\n",
    "print('\\nTrain scores:')\n",
    "print(\"F1: {0:.4f}\".format(f1_score(y_train, prediction_train_tsne, average='macro')))\n",
    "print(\"Accuracy: {0:.4f}\".format(accuracy_score(y_train, prediction_train_tsne)))"
   ],
   "metadata": {
    "collapsed": false,
    "pycharm": {
     "name": "#%%\n"
    }
   }
  },
  {
   "cell_type": "markdown",
   "id": "419b5316",
   "metadata": {
    "pycharm": {
     "name": "#%% md\n"
    }
   },
   "source": [
    "## K_means"
   ]
  },
  {
   "cell_type": "markdown",
   "id": "ba0e340d",
   "metadata": {
    "pycharm": {
     "name": "#%% md\n"
    }
   },
   "source": [
    "**Task 6. <a id=\"task5\"></a> (1.5 points)** Implement the MyKMeans class.\n",
    "\n",
    "The class must match the template shown below. Please, add code where needed. Some guidelines are the following:\n",
    "\n",
    "The class constructor is passed to:\n",
    "- n_clusters - the number of clusters that the data will be split into\n",
    "\n",
    "- n_iters - the maximum number of iterations that can be done in this algorithm\n",
    "\n",
    "Realize `update_centers` and `update_labels` methods.\n",
    "\n",
    "\n",
    "In the `fit` method:\n",
    "\n",
    "- Write sequential call of `self_centers` and `self_labels`.\n",
    "\n",
    "then in the loop by the number of iterations you need to implement:\n",
    "- calculate the nearest cluster center for each object\n",
    "- recalculate the center of each cluster (the average of each of the coordinates of all objects assigned to this cluster)\n",
    "put the calculated new cluster centers in the `new_centers` variable\n",
    "\n",
    "In the `predict` method:\n",
    "\n",
    "the nearest cluster centers for `X` objects are calculated"
   ]
  },
  {
   "cell_type": "code",
   "execution_count": null,
   "id": "7a17bf25",
   "metadata": {
    "pycharm": {
     "name": "#%%\n"
    }
   },
   "outputs": [],
   "source": [
    "from IPython.display import clear_output\n",
    "from sklearn.metrics import pairwise_distances_argmin\n",
    "\n",
    "def plot_clust(X, centers, lables, ax): \n",
    "    ax.scatter(X[:,0], X[:,1], c=lables)\n",
    "    ax.scatter(centers[:,0], centers[:,1], marker='>', color='red')\n",
    "\n",
    "\n",
    "class MyKMeans():\n",
    "    def __init__(self, n_clusters=3, n_iters=100, seed=None):\n",
    "        self.n_clusters = n_clusters\n",
    "        self.labels = None \n",
    "        self.centers = None \n",
    "        self.n_iters = n_iters\n",
    "        self.seed = 0 if seed is None else seed\n",
    "        np.random.seed(self.seed)\n",
    "\n",
    "    def update_centers(self, X):\n",
    "        ## your code here\n",
    "        return centers\n",
    "    \n",
    "    def update_labels(self, X):\n",
    "        ## your code here\n",
    "        return labels \n",
    "\n",
    "    def fit(self, X):\n",
    "        self.centers = ## your code here\n",
    "        self.labels = ## your code here\n",
    "\n",
    "        for it in range(self.n_iters):\n",
    "            new_labels = self.update_labels(X)\n",
    "            self.labels = new_labels\n",
    "\n",
    "            new_centers = self.update_centers(X)\n",
    "            if np.allclose(self.centers.flatten(), new_centers.flatten(), atol=1e-1):\n",
    "                self.centers = new_centers\n",
    "                self.labels = new_labels\n",
    "                print('Converge by tolerance centers')\n",
    "\n",
    "                fig, ax = plt.subplots(1,1)\n",
    "                plot_clust(X, new_centers, new_labels, ax)\n",
    "                return 0\n",
    "      \n",
    "            self.centers = new_centers\n",
    "\n",
    "            fig, ax = plt.subplots(1,1)\n",
    "            plot_clust(X, new_centers, new_labels, ax)\n",
    "            plt.pause(0.3);\n",
    "            clear_output(wait=True);\n",
    "        \n",
    "\n",
    "        return 1\n",
    "    \n",
    "    def predict(self, X):\n",
    "        labels = ## your code here\n",
    "        return labels"
   ]
  },
  {
   "cell_type": "markdown",
   "id": "eca4f69a",
   "metadata": {
    "pycharm": {
     "name": "#%% md\n"
    }
   },
   "source": [
    "Generating data for clustering"
   ]
  },
  {
   "cell_type": "code",
   "execution_count": null,
   "id": "2bf447e4",
   "metadata": {
    "pycharm": {
     "name": "#%%\n"
    }
   },
   "outputs": [],
   "source": [
    "from sklearn import datasets\n",
    "n_samples = 1000\n",
    "\n",
    "noisy_blobs = datasets.make_blobs(n_samples=n_samples,\n",
    "                             cluster_std=[1.0, 0.5, 0.5],\n",
    "                             random_state=0)"
   ]
  },
  {
   "cell_type": "code",
   "execution_count": null,
   "id": "4116eece",
   "metadata": {
    "pycharm": {
     "name": "#%%\n"
    }
   },
   "outputs": [],
   "source": [
    "X, y = noisy_blobs"
   ]
  },
  {
   "cell_type": "markdown",
   "id": "23255ead",
   "metadata": {
    "pycharm": {
     "name": "#%% md\n"
    }
   },
   "source": [
    "**Task 7. <a id=\"task6\"></a> (1.5 points)** \n",
    "\n",
    "7.1 Cluster noisy_blobs objects with `MyKMeans`, use the hyperparameters `n_clusters=3`, `n_iters=3`. Plot result. Specify the result label for the object with index 0."
   ]
  },
  {
   "cell_type": "code",
   "execution_count": null,
   "id": "c3456404",
   "metadata": {
    "pycharm": {
     "name": "#%%\n"
    }
   },
   "outputs": [],
   "source": [
    "## your code here"
   ]
  },
  {
   "cell_type": "markdown",
   "id": "ed395737",
   "metadata": {
    "pycharm": {
     "name": "#%% md\n"
    }
   },
   "source": [
    "7.2 Cluster noisy_blobs objects, use the hyperparameters `n_clusters=3`, `n_iters = 100`. Plot result. Specify the result label for the object with index 0."
   ]
  },
  {
   "cell_type": "code",
   "execution_count": null,
   "id": "fb9202fc",
   "metadata": {
    "pycharm": {
     "name": "#%%\n"
    }
   },
   "outputs": [],
   "source": [
    "# your code here"
   ]
  },
  {
   "cell_type": "markdown",
   "id": "3760cb11",
   "metadata": {
    "pycharm": {
     "name": "#%% md\n"
    }
   },
   "source": [
    "7.3 Calculate how many objects changed the label of the predicted cluster when changing the hyperparameter n_iters from 3 to 100"
   ]
  },
  {
   "cell_type": "code",
   "execution_count": null,
   "id": "bec68fd0",
   "metadata": {
    "pycharm": {
     "name": "#%%\n"
    }
   },
   "outputs": [],
   "source": [
    "## your code here\n",
    "\n",
    "num_of_changed = ..."
   ]
  },
  {
   "cell_type": "markdown",
   "id": "deff6671",
   "metadata": {
    "pycharm": {
     "name": "#%% md\n"
    }
   },
   "source": [
    "**Task 8. <a id=\"task6\"></a> (1.5 points)** \n",
    "\n",
    "Using the elbow method, select the optimal number of clusters, show it on the plot. As a metric, use the sum of the squares of the distances between the data points and the centroids of the clusters assigned to them divided by number of clusters. To do this, iterate the parameter k from 2 to 50 in steps of 2. "
   ]
  },
  {
   "cell_type": "code",
   "execution_count": null,
   "id": "1dc95b6b",
   "metadata": {
    "pycharm": {
     "name": "#%%\n"
    }
   },
   "outputs": [],
   "source": [
    "## your code here"
   ]
  },
  {
   "cell_type": "markdown",
   "id": "85b60836",
   "metadata": {
    "pycharm": {
     "name": "#%% md\n"
    }
   },
   "source": [
    "## DBSCAN"
   ]
  },
  {
   "cell_type": "markdown",
   "id": "c33b0761",
   "metadata": {
    "pycharm": {
     "name": "#%% md\n"
    }
   },
   "source": [
    "**Task 9. <a id=\"task7\"></a> (0.5 points)** Cluster noisy_blobs objects using DBSCAN. Use the DBSCAN implementation from sklearn. Fix the `eps=0.3` hyperparameter. Plot result. Specify the response for the object with index 2."
   ]
  },
  {
   "cell_type": "code",
   "execution_count": null,
   "id": "d164963a",
   "metadata": {
    "pycharm": {
     "name": "#%%\n"
    }
   },
   "outputs": [],
   "source": [
    "## your code here"
   ]
  },
  {
   "cell_type": "markdown",
   "id": "1199155b",
   "metadata": {
    "pycharm": {
     "name": "#%% md\n"
    }
   },
   "source": [
    "**Task 10. <a id=\"task8\"></a> (1 point)** \n",
    "\n",
    "Try different settings of ```eps``` distances (from 0.1 to 0.5) and several values of your choice of ```min_samples```. For each setting plot results. Also output the number of clusters and outliers (objects marked as -1)."
   ]
  },
  {
   "cell_type": "code",
   "execution_count": null,
   "id": "8e2208fd-9392-49aa-af4f-e1a615cdd488",
   "metadata": {
    "pycharm": {
     "name": "#%%\n"
    }
   },
   "outputs": [],
   "source": [
    "## your code here"
   ]
  },
  {
   "cell_type": "markdown",
   "id": "3f3d485d",
   "metadata": {
    "pycharm": {
     "name": "#%% md\n"
    }
   },
   "source": [
    " "
   ]
  }
 ],
 "metadata": {
  "kernelspec": {
   "display_name": "Python 3 (ipykernel)",
   "language": "python",
   "name": "python3"
  },
  "language_info": {
   "codemirror_mode": {
    "name": "ipython",
    "version": 3
   },
   "file_extension": ".py",
   "mimetype": "text/x-python",
   "name": "python",
   "nbconvert_exporter": "python",
   "pygments_lexer": "ipython3",
   "version": "3.9.5"
  }
 },
 "nbformat": 4,
 "nbformat_minor": 5
}