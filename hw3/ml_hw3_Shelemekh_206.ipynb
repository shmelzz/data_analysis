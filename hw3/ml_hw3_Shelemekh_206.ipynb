{
 "cells": [
  {
   "cell_type": "markdown",
   "metadata": {
    "id": "s3v5HIUdDvY5",
    "pycharm": {
     "name": "#%% md\n"
    }
   },
   "source": [
    "# HSE 2021: Mathematical Methods for Data Analysis\n",
    "\n",
    "## Homework 3\n",
    "\n",
    "**Warning 1**: some problems require (especially the lemmatization part) significant amount of time, so **it is better to start early (!)**\n",
    "\n",
    "**Warning 2**: it is critical to describe and explain what you are doing and why, use markdown cells"
   ]
  },
  {
   "cell_type": "code",
   "execution_count": 57,
   "metadata": {
    "id": "F7t9dYtdDvZC",
    "pycharm": {
     "name": "#%%\n"
    }
   },
   "outputs": [],
   "source": [
    "from typing import Tuple, List\n",
    "\n",
    "import matplotlib.pyplot as plt\n",
    "import numpy as np\n",
    "import pandas as pd\n",
    "import seaborn as sns\n",
    "%matplotlib inline\n",
    "\n",
    "sns.set(style=\"darkgrid\")"
   ]
  },
  {
   "cell_type": "markdown",
   "metadata": {
    "id": "fIHtwV6vDvZD",
    "pycharm": {
     "name": "#%% md\n"
    }
   },
   "source": [
    "## PART 1: Logit model"
   ]
  },
  {
   "cell_type": "markdown",
   "metadata": {
    "id": "Q7XKEWcVDvZD",
    "pycharm": {
     "name": "#%% md\n"
    }
   },
   "source": [
    "We consider a binary classification problem. For prediction, we would like to use a logistic regression model. For regularization we add a combination of the $l_2$ and $l_1$ penalties (Elastic Net). \n",
    "\n",
    "Each object in the training dataset is indexed with $i$ and described by pair: features $x_i\\in\\mathbb{R}^{K}$ and binary labels $y_i$. The model parametrized with bias $w_0\\in\\mathbb{R}$ and weights $w\\in\\mathbb{R}^K$.\n",
    "\n",
    "The optimization problem with respect to the $w_0, w$ is the following (Elastic Net Loss):\n",
    "\n",
    "$$L(w, w_0) = \\frac{1}{N} \\sum_{i=1}^N \\ln(1+\\exp(-y_i(w^\\top x_i+w_0))) + \\gamma \\|w\\|_1 + \\beta \\|w\\|_2^2$$."
   ]
  },
  {
   "cell_type": "markdown",
   "metadata": {
    "id": "j1eSuDKXFVZu",
    "pycharm": {
     "name": "#%% md\n"
    }
   },
   "source": [
    "#### 1. [0.5 points]  Find the gradient of the Elastic Net loss and write its formulas (better in latex format) "
   ]
  },
  {
   "cell_type": "markdown",
   "metadata": {
    "id": "1zjH-YnPDvZD",
    "pycharm": {
     "name": "#%% md\n"
    }
   },
   "source": [
    "##### Put your markdown formulas here"
   ]
  },
  {
   "cell_type": "markdown",
   "metadata": {
    "id": "Q_lIccN_DvZE",
    "pycharm": {
     "name": "#%% md\n"
    }
   },
   "source": [
    "#### 2. [0.25 points] Implement the Elastic Net loss (as a function)"
   ]
  },
  {
   "cell_type": "code",
   "execution_count": 58,
   "metadata": {
    "id": "9QNfCtV5DvZE",
    "pycharm": {
     "name": "#%%\n"
    }
   },
   "outputs": [],
   "source": [
    "def loss(X, y, w: List[float], w0: float, gamma=1., beta=1.) -> float:\n",
    "    reg1 = gamma * np.sum(np.abs(w))\n",
    "    reg2 = beta * np.sum(np.square(w))\n",
    "    under_log = 1 + np.exp(np.multiply(-y, np.dot(X, w) + w0))\n",
    "\n",
    "    return (1 / np.shape(X)[0]) * np.sum(np.log(under_log)) + reg1 + reg2"
   ]
  },
  {
   "cell_type": "markdown",
   "metadata": {
    "id": "fIVoC6UmDvZE",
    "pycharm": {
     "name": "#%% md\n"
    }
   },
   "source": [
    "#### 3. [0.25 points] Implement the gradient (as a function)"
   ]
  },
  {
   "cell_type": "code",
   "execution_count": 59,
   "metadata": {
    "id": "HWqBLGRADvZE",
    "pycharm": {
     "name": "#%%\n"
    }
   },
   "outputs": [],
   "source": [
    "def get_grad(X, y, w: List[float], w0: float, gamma=1., beta=1.) -> Tuple[List[float], float]:\n",
    "    up = np.exp(np.multiply(-y, np.dot(X, w) + w0))\n",
    "    down = 1 + np.exp(np.multiply(-y, np.dot(X, w) + w0))\n",
    "\n",
    "    grad_w0 = (1 / np.shape(X)[0]) * np.dot(up / down, -y)\n",
    "\n",
    "    derivative_l1 = gamma * np.sign(w)\n",
    "    derivative_l2 = 2 * beta * w\n",
    "\n",
    "    grad_w = (1 / np.shape(X)[0]) * np.dot(np.multiply(up / down, -y),  X) + derivative_l1 + derivative_l2\n",
    "\n",
    "    return grad_w, grad_w0"
   ]
  },
  {
   "cell_type": "markdown",
   "metadata": {
    "id": "BhOb8HrtDvZF",
    "pycharm": {
     "name": "#%% md\n"
    }
   },
   "source": [
    "#### Check yourself"
   ]
  },
  {
   "cell_type": "code",
   "execution_count": 60,
   "metadata": {
    "id": "3FxXTocHDvZF",
    "pycharm": {
     "name": "#%%\n"
    }
   },
   "outputs": [],
   "source": [
    "np.random.seed(42)\n",
    "X = np.random.multivariate_normal(np.arange(5), np.eye(5), size=10)\n",
    "y = np.random.binomial(1, 0.42, size=10)\n",
    "w, w0 = np.random.normal(size=5), np.random.normal()\n",
    "\n",
    "grad_w, grad_w0 = get_grad(X, y, w, w0)\n",
    "\n",
    "assert (np.allclose(grad_w,\n",
    "                    [-2.73262076, -1.87176281, 1.30051144, 2.53598941, -2.71198109],\n",
    "                    rtol=1e-2) & np.allclose(grad_w0,\n",
    "                                             -0.2078231418067844,\n",
    "                                             rtol=1e-2)\n",
    "        )"
   ]
  },
  {
   "cell_type": "markdown",
   "metadata": {
    "id": "LbqLfcrRDvZF",
    "pycharm": {
     "name": "#%% md\n"
    }
   },
   "source": [
    "####  4. [1 point]  Implement gradient descent which works for both tol level and max_iter stop criteria and plot the decision boundary of the result"
   ]
  },
  {
   "cell_type": "markdown",
   "metadata": {
    "id": "iIgiwQkjDvZF",
    "pycharm": {
     "name": "#%% md\n"
    }
   },
   "source": [
    "The template provides basic sklearn API class. You are free to modify it in any convenient way."
   ]
  },
  {
   "cell_type": "code",
   "execution_count": 61,
   "metadata": {
    "id": "Thyeux0KDvZG",
    "pycharm": {
     "name": "#%%\n"
    }
   },
   "outputs": [],
   "source": [
    "from sklearn.base import BaseEstimator, ClassifierMixin\n",
    "from numpy import linalg as la"
   ]
  },
  {
   "cell_type": "code",
   "execution_count": 62,
   "metadata": {
    "id": "erVmNR0PDvZG",
    "pycharm": {
     "name": "#%%\n"
    }
   },
   "outputs": [],
   "source": [
    "class Logit(BaseEstimator, ClassifierMixin):\n",
    "    def __init__(self, beta=1.0, gamma=1.0, lr=1e-3, tolerance=0.01, max_iter=1000, random_state=42):\n",
    "        self.beta = beta\n",
    "        self.gamma = gamma\n",
    "        self.tolerance = tolerance\n",
    "        self.max_iter = max_iter\n",
    "        self.learning_rate = lr\n",
    "        self.random_state = random_state\n",
    "\n",
    "        self.loss_history = None\n",
    "        self.w = None\n",
    "        self.w0 = 0\n",
    "\n",
    "    def fit(self, X, y):\n",
    "        np.random.seed(self.random_state)\n",
    "        self.loss_history = []\n",
    "        w = np.random.normal(0, 1, np.shape(X)[1])\n",
    "        self.w0 = np.random.normal(0, 1, size=1)\n",
    "        self.w = w.copy()\n",
    "        iter_num = 0\n",
    "        while iter_num < self.max_iter and abs(la.norm(w - self.w) - self.tolerance) > 0:\n",
    "            grad_w, grad_w0 = get_grad(X, y, w, self.w0, self.gamma, self.beta)\n",
    "            self.loss_history = np.append(self.loss_history, loss(X, y, self.w, self.w0, self.gamma, self.beta))\n",
    "            self.w = w\n",
    "            w -= self.learning_rate * grad_w\n",
    "            self.w0 -= self.learning_rate * grad_w0\n",
    "            iter_num += 1\n",
    "        self.w = w\n",
    "\n",
    "\n",
    "    def predict(self, X):\n",
    "        probabilities = self.predict_proba(X)\n",
    "        res = np.argmax(probabilities, axis=0)\n",
    "        res[res == 0] = -1\n",
    "        return res\n",
    "\n",
    "    def predict_proba(self, X):\n",
    "        return np.array([1 / (1 + np.exp(np.dot(X, self.w) + self.w0)), 1 / (1 + np.exp(-np.dot(X, self.w) - self.w0))])"
   ]
  },
  {
   "cell_type": "code",
   "execution_count": 143,
   "metadata": {
    "id": "7SJX8Y6EDvZG",
    "pycharm": {
     "name": "#%%\n"
    }
   },
   "outputs": [],
   "source": [
    "# sample data to test your model\n",
    "from sklearn.datasets import make_classification\n",
    "\n",
    "X, y = make_classification(n_samples=180, n_features=2, n_redundant=0, n_informative=2,\n",
    "                           random_state=42, n_clusters_per_class=1)"
   ]
  },
  {
   "cell_type": "code",
   "execution_count": 64,
   "metadata": {
    "id": "u41kzwGTDvZH",
    "pycharm": {
     "name": "#%%\n"
    }
   },
   "outputs": [],
   "source": [
    "# a function to plot the decision boundary\n",
    "def plot_decision_boundary(model, X, y):\n",
    "    fig = plt.figure()\n",
    "    X1min, X2min = X.min(axis=0)\n",
    "    X1max, X2max = X.max(axis=0)\n",
    "    x1, x2 = np.meshgrid(np.linspace(X1min, X1max, 200),\n",
    "                         np.linspace(X2min, X2max, 200))\n",
    "    ypred = model.predict(np.c_[x1.ravel(), x2.ravel()])\n",
    "    ypred = ypred.reshape(x1.shape)\n",
    "\n",
    "    plt.contourf(x1, x2, ypred, alpha=.4)\n",
    "    plt.scatter(X[:, 0], X[:, 1], c=y)"
   ]
  },
  {
   "cell_type": "code",
   "execution_count": 65,
   "metadata": {
    "id": "mNuYbsAoDvZI",
    "pycharm": {
     "name": "#%%\n"
    }
   },
   "outputs": [
    {
     "data": {
      "text/plain": "<Figure size 432x288 with 1 Axes>",
      "image/png": "[encoded data removed]"
     },
     "metadata": {},
     "output_type": "display_data"
    }
   ],
   "source": [
    "# model = Logit(0, 0, max_iter=10000, tolerance=0.00001, lr=0.01)\n",
    "model = Logit(0, 0, lr=0.01, max_iter=20000)\n",
    "y[y == 0] = -1\n",
    "model.fit(X, y)\n",
    "\n",
    "plot_decision_boundary(model, X, y)"
   ]
  },
  {
   "cell_type": "markdown",
   "metadata": {
    "id": "Qi4WRhcADvZI",
    "pycharm": {
     "name": "#%% md\n"
    }
   },
   "source": [
    "#### 5. [0.25 points] Plot loss diagram for the model, i.e. show the dependence of the loss function from the gradient descent steps"
   ]
  },
  {
   "cell_type": "code",
   "execution_count": 67,
   "metadata": {
    "id": "VyjMDAKuDvZI",
    "pycharm": {
     "name": "#%%\n"
    }
   },
   "outputs": [
    {
     "data": {
      "text/plain": "Text(0.5, 1.0, 'Dependence of the loss function from the iteration number')"
     },
     "execution_count": 67,
     "metadata": {},
     "output_type": "execute_result"
    },
    {
     "data": {
      "text/plain": "<Figure size 504x504 with 1 Axes>",
      "image/png": "[encoded data removed]"
     },
     "metadata": {},
     "output_type": "display_data"
    }
   ],
   "source": [
    "plt.figure(1, figsize=(7,7))\n",
    "plt.plot(model.loss_history)\n",
    "plt.xlabel(\"iteration number\")\n",
    "plt.ylabel(\"loss function value\")\n",
    "plt.title(\"Dependence of the loss function from the iteration number\")"
   ]
  },
  {
   "cell_type": "markdown",
   "metadata": {
    "id": "0FhSCAv_DvZJ",
    "pycharm": {
     "name": "#%% md\n"
    }
   },
   "source": [
    "## PART 2: Support Vector Machines"
   ]
  },
  {
   "cell_type": "markdown",
   "metadata": {
    "id": "lYyGsSxEDvZJ",
    "pycharm": {
     "name": "#%% md\n"
    }
   },
   "source": [
    "#### 6. [2 point] Using the same dataset, train SVM Classifier from Sklearn.\n",
    "Investigate how different parameters influence the quality of the solution:\n",
    "+ Try several kernels: Linear, Polynomial, RBF (and others if you wish). Some Kernels have hypermeters: don't forget to try different.\n",
    "+ Regularization coefficient \n",
    "\n",
    "Show how these parameters affect accuracy, roc_auc and f1 score. \n",
    "Make plots for the dependencies between metrics and parameters. \n",
    "Try to formulate conclusions from the observations. How sensitive are kernels to hyperparameters? How sensitive is a solution to the regularization? Which kernel is prone to overfitting?"
   ]
  },
  {
   "cell_type": "code",
   "execution_count": 68,
   "outputs": [],
   "source": [
    "from sklearn.model_selection import train_test_split\n",
    "from sklearn.svm import SVC\n",
    "from sklearn.metrics import *"
   ],
   "metadata": {
    "collapsed": false,
    "pycharm": {
     "name": "#%%\n"
    }
   }
  },
  {
   "cell_type": "code",
   "execution_count": 144,
   "outputs": [],
   "source": [
    "def show_results(test_y, pred, proba):\n",
    "    print(\"F1-measure: {0:6.2f}\".format(f1_score(test_y, pred, average='macro')))\n",
    "    print(\"Accuracy: {0:6.2f}\".format(accuracy_score(test_y, pred)))\n",
    "    print(\"ROC-AUC  =  {0:6.2f}\".format(roc_auc_score(test_y, proba[:, 1]), ))\n",
    "    print('\\n')\n",
    "    labels = ['negative', 'positive']\n",
    "    #classification_report\n",
    "    sns.heatmap(data=confusion_matrix(test_y, pred), annot=True, fmt=\"d\", cbar=False, xticklabels=labels,\n",
    "                yticklabels=labels)\n",
    "    plt.title(\"Confusion matrix \")\n",
    "    plt.show()"
   ],
   "metadata": {
    "collapsed": false,
    "pycharm": {
     "name": "#%%\n"
    }
   }
  },
  {
   "cell_type": "code",
   "execution_count": 216,
   "outputs": [],
   "source": [
    "reg_coef = np.linspace(0.0001, 1, num=100)\n",
    "x_train, x_test, y_train, y_test = train_test_split(X, y, train_size=0.75)"
   ],
   "metadata": {
    "collapsed": false,
    "pycharm": {
     "name": "#%%\n"
    }
   }
  },
  {
   "cell_type": "markdown",
   "source": [
    "Сначала попробуем сравнить метрики моделей с разными ядрами"
   ],
   "metadata": {
    "collapsed": false,
    "pycharm": {
     "name": "#%% md\n"
    }
   }
  },
  {
   "cell_type": "code",
   "execution_count": 224,
   "outputs": [
    {
     "name": "stdout",
     "output_type": "stream",
     "text": [
      "F1-measure:   0.98\n",
      "Accuracy:   0.98\n",
      "ROC-AUC  =    1.00\n",
      "\n",
      "\n"
     ]
    },
    {
     "data": {
      "text/plain": "<Figure size 432x288 with 1 Axes>",
      "image/png": "[encoded data removed]"
     },
     "metadata": {},
     "output_type": "display_data"
    },
    {
     "name": "stdout",
     "output_type": "stream",
     "text": [
      "F1-measure:   0.98\n",
      "Accuracy:   0.98\n",
      "ROC-AUC  =    1.00\n",
      "\n",
      "\n"
     ]
    },
    {
     "data": {
      "text/plain": "<Figure size 432x288 with 1 Axes>",
      "image/png": "[encoded data removed]"
     },
     "metadata": {},
     "output_type": "display_data"
    },
    {
     "name": "stdout",
     "output_type": "stream",
     "text": [
      "F1-measure:   1.00\n",
      "Accuracy:   1.00\n",
      "ROC-AUC  =    1.00\n",
      "\n",
      "\n"
     ]
    },
    {
     "data": {
      "text/plain": "<Figure size 432x288 with 1 Axes>",
      "image/png": "[encoded data removed]"
     },
     "metadata": {},
     "output_type": "display_data"
    }
   ],
   "source": [
    "clf = SVC(kernel='linear', probability=True)\n",
    "clf.fit(x_train, y_train)\n",
    "prediction = clf.predict(x_test)\n",
    "probabilities = clf.predict_proba(x_test)\n",
    "show_results(y_test, prediction, probabilities)\n",
    "\n",
    "clf = SVC(kernel='rbf', probability=True)\n",
    "clf.fit(x_train, y_train)\n",
    "prediction = clf.predict(x_test)\n",
    "probabilities = clf.predict_proba(x_test)\n",
    "show_results(y_test, prediction, probabilities)\n",
    "\n",
    "clf = SVC(kernel='poly', probability=True)\n",
    "clf.fit(x_train, y_train)\n",
    "prediction = clf.predict(x_test)\n",
    "probabilities = clf.predict_proba(x_test)\n",
    "show_results(y_test, prediction, probabilities)"
   ],
   "metadata": {
    "collapsed": false,
    "pycharm": {
     "name": "#%%\n"
    }
   }
  },
  {
   "cell_type": "markdown",
   "source": [
    "Теперь посмотрим, каким образом коэффицент регуляции влияет на качество моделей с разными ядрами."
   ],
   "metadata": {
    "collapsed": false,
    "pycharm": {
     "name": "#%% md\n"
    }
   }
  },
  {
   "cell_type": "code",
   "execution_count": 202,
   "outputs": [],
   "source": [
    "def get_scores(input_kernel):\n",
    "    f1s = []\n",
    "    roc_auc_s = []\n",
    "    accuracy_s = []\n",
    "    for coef in reg_coef:\n",
    "        clf = SVC(kernel=input_kernel, probability=True, C=coef)\n",
    "        clf.fit(x_train, y_train)\n",
    "        prediction = clf.predict(x_test)\n",
    "        probabilities = clf.predict_proba(x_test)\n",
    "        f1s.append(f1_score(y_test, prediction, average='macro'))\n",
    "        roc_auc_s.append(roc_auc_score(y_test, probabilities[:, 1]))\n",
    "        accuracy_s.append(accuracy_score(y_test, prediction))\n",
    "    return f1s, roc_auc_s, accuracy_s"
   ],
   "metadata": {
    "collapsed": false,
    "pycharm": {
     "name": "#%%\n"
    }
   }
  },
  {
   "cell_type": "code",
   "execution_count": 217,
   "outputs": [],
   "source": [
    "f1s_linear, roc_auc_linear, accuracy_s_linear = get_scores('linear')\n",
    "f1s_poly, roc_auc_poly, accuracy_s_poly = get_scores('poly')\n",
    "f1s_rbf, roc_auc_rbf, accuracy_s_rbf = get_scores('rbf')"
   ],
   "metadata": {
    "collapsed": false,
    "pycharm": {
     "name": "#%%\n"
    }
   }
  },
  {
   "cell_type": "code",
   "execution_count": 218,
   "outputs": [
    {
     "data": {
      "text/plain": "Text(0.5, 1.0, 'Regularization coefficient influence on RBF kernel metrics')"
     },
     "execution_count": 218,
     "metadata": {},
     "output_type": "execute_result"
    },
    {
     "data": {
      "text/plain": "<Figure size 1440x504 with 3 Axes>",
      "image/png": "[encoded data removed]"
     },
     "metadata": {},
     "output_type": "display_data"
    }
   ],
   "source": [
    "plt.figure(1, figsize=(20,7))\n",
    "plt.subplot(131)\n",
    "plt.plot(reg_coef, f1s_linear)\n",
    "plt.plot(reg_coef, accuracy_s_linear)\n",
    "plt.plot(reg_coef, roc_auc_linear)\n",
    "plt.legend([\"F1\", \"Accuracy\", \"ROC_AUC\"])\n",
    "plt.xlabel(\"Regularization coefficient\")\n",
    "plt.ylabel(\"score\")\n",
    "plt.title(\"Regularization coefficient influence on Linear kernel metrics\")\n",
    "\n",
    "plt.subplot(132)\n",
    "plt.plot(reg_coef, f1s_poly)\n",
    "plt.plot(reg_coef, accuracy_s_poly)\n",
    "plt.plot(reg_coef, roc_auc_poly)\n",
    "plt.legend([\"F1\", \"Accuracy\", \"ROC_AUC\"])\n",
    "plt.xlabel(\"Regularization coefficient\")\n",
    "plt.ylabel(\"score\")\n",
    "plt.title(\"Regularization coefficient influence on Polynomial kernel metrics\")\n",
    "\n",
    "plt.subplot(133)\n",
    "plt.plot(reg_coef, f1s_rbf)\n",
    "plt.plot(reg_coef, accuracy_s_rbf)\n",
    "plt.plot(reg_coef, roc_auc_rbf)\n",
    "plt.legend([\"F1\", \"Accuracy\", \"ROC_AUC\"])\n",
    "plt.xlabel(\"Regularization coefficient\")\n",
    "plt.ylabel(\"score\")\n",
    "plt.title(\"Regularization coefficient influence on RBF kernel metrics\")"
   ],
   "metadata": {
    "collapsed": false,
    "pycharm": {
     "name": "#%%\n"
    }
   }
  },
  {
   "cell_type": "markdown",
   "source": [
    "Исследуем влияние гиперпараметра gamma на качество RBF модели."
   ],
   "metadata": {
    "collapsed": false,
    "pycharm": {
     "name": "#%% md\n"
    }
   }
  },
  {
   "cell_type": "code",
   "execution_count": 219,
   "outputs": [],
   "source": [
    "gamma = np.linspace(0.0001, 0.1, num=100)\n",
    "def get_scores_rbf_gamma():\n",
    "    f1s = []\n",
    "    roc_auc_s = []\n",
    "    accuracy_s = []\n",
    "    for g in gamma:\n",
    "        clf = SVC(kernel='rbf', probability=True, gamma=g)\n",
    "        clf.fit(x_train, y_train)\n",
    "        prediction = clf.predict(x_test)\n",
    "        probabilities = clf.predict_proba(x_test)\n",
    "        f1s.append(f1_score(y_test, prediction, average='macro'))\n",
    "        roc_auc_s.append(roc_auc_score(y_test, probabilities[:, 1]))\n",
    "        accuracy_s.append(accuracy_score(y_test, prediction))\n",
    "    return f1s, roc_auc_s, accuracy_s"
   ],
   "metadata": {
    "collapsed": false,
    "pycharm": {
     "name": "#%%\n"
    }
   }
  },
  {
   "cell_type": "code",
   "execution_count": 222,
   "outputs": [
    {
     "data": {
      "text/plain": "Text(0.5, 1.0, 'Gamma influence on RBF kernel metrics')"
     },
     "execution_count": 222,
     "metadata": {},
     "output_type": "execute_result"
    },
    {
     "data": {
      "text/plain": "<Figure size 504x504 with 1 Axes>",
      "image/png": "[encoded data removed]"
     },
     "metadata": {},
     "output_type": "display_data"
    }
   ],
   "source": [
    "f1s_rbf_gamma, roc_auc_rbf_gamma, accuracy_s_rbf_gamma = get_scores_rbf_gamma()\n",
    "\n",
    "plt.figure(1, figsize=(7, 7))\n",
    "plt.plot(gamma, f1s_rbf_gamma)\n",
    "plt.plot(gamma, roc_auc_rbf_gamma)\n",
    "plt.plot(gamma, accuracy_s_rbf_gamma)\n",
    "plt.legend([\"F1\", \"Accuracy\", \"ROC_AUC\"])\n",
    "plt.xlabel(\"gamma\")\n",
    "plt.ylabel(\"score\")\n",
    "plt.title(\"Gamma influence on RBF kernel metrics\")"
   ],
   "metadata": {
    "collapsed": false,
    "pycharm": {
     "name": "#%%\n"
    }
   }
  },
  {
   "cell_type": "markdown",
   "source": [
    " Исследуем влияние гиперпараметра degree на качество полиномиальной модели."
   ],
   "metadata": {
    "collapsed": false,
    "pycharm": {
     "name": "#%% md\n"
    }
   }
  },
  {
   "cell_type": "code",
   "execution_count": 234,
   "outputs": [],
   "source": [
    "degree = [2, 3, 4, 5, 6]\n",
    "\n",
    "def get_scores_poly_degree():\n",
    "    f1s = []\n",
    "    roc_auc_s = []\n",
    "    accuracy_s = []\n",
    "    for d in degree:\n",
    "        clf = SVC(kernel='poly', probability=True, degree=d)\n",
    "        clf.fit(x_train, y_train)\n",
    "        prediction = clf.predict(x_test)\n",
    "        probabilities = clf.predict_proba(x_test)\n",
    "        f1s.append(f1_score(y_test, prediction, average='macro'))\n",
    "        roc_auc_s.append(roc_auc_score(y_test, probabilities[:, 1]))\n",
    "        accuracy_s.append(accuracy_score(y_test, prediction))\n",
    "    return f1s, roc_auc_s, accuracy_s"
   ],
   "metadata": {
    "collapsed": false,
    "pycharm": {
     "name": "#%%\n"
    }
   }
  },
  {
   "cell_type": "code",
   "execution_count": 239,
   "outputs": [
    {
     "data": {
      "text/plain": "Text(0.5, 1.0, 'Degree influence on Poly kernel metrics')"
     },
     "execution_count": 239,
     "metadata": {},
     "output_type": "execute_result"
    },
    {
     "data": {
      "text/plain": "<Figure size 504x504 with 1 Axes>",
      "image/png": "[encoded data removed]"
     },
     "metadata": {},
     "output_type": "display_data"
    }
   ],
   "source": [
    "f1s_poly_d, roc_auc_poly_d, accuracy_s_poly_d = get_scores_poly_degree()\n",
    "\n",
    "plt.figure(1, figsize=(7, 7))\n",
    "plt.plot(degree, f1s_poly_d)\n",
    "plt.plot(degree, roc_auc_poly_d)\n",
    "plt.plot(degree, accuracy_s_poly_d)\n",
    "plt.legend([\"F1\", \"Accuracy\", \"ROC_AUC\"])\n",
    "plt.xlabel(\"degree\")\n",
    "plt.ylabel(\"score\")\n",
    "plt.title(\"Degree influence on Poly kernel metrics\")"
   ],
   "metadata": {
    "collapsed": false,
    "pycharm": {
     "name": "#%%\n"
    }
   }
  },
  {
   "cell_type": "code",
   "execution_count": 249,
   "outputs": [],
   "source": [
    "coef0 = np.linspace(0.0001, 10000, num=100)\n",
    "\n",
    "def get_scores_poly_coef0():\n",
    "    f1s = []\n",
    "    roc_auc_s = []\n",
    "    accuracy_s = []\n",
    "    for c in coef0:\n",
    "        clf = SVC(kernel='poly', probability=True, coef0=c)\n",
    "        clf.fit(x_train, y_train)\n",
    "        prediction = clf.predict(x_test)\n",
    "        probabilities = clf.predict_proba(x_test)\n",
    "        f1s.append(f1_score(y_test, prediction, average='macro'))\n",
    "        roc_auc_s.append(roc_auc_score(y_test, probabilities[:, 1]))\n",
    "        accuracy_s.append(accuracy_score(y_test, prediction))\n",
    "    return f1s, roc_auc_s, accuracy_s"
   ],
   "metadata": {
    "collapsed": false,
    "pycharm": {
     "name": "#%%\n"
    }
   }
  },
  {
   "cell_type": "code",
   "execution_count": 251,
   "outputs": [
    {
     "data": {
      "text/plain": "Text(0.5, 1.0, 'Coef0 (bias) influence on Poly kernel metrics')"
     },
     "execution_count": 251,
     "metadata": {},
     "output_type": "execute_result"
    },
    {
     "data": {
      "text/plain": "<Figure size 360x360 with 1 Axes>",
      "image/png": "[encoded data removed]"
     },
     "metadata": {},
     "output_type": "display_data"
    }
   ],
   "source": [
    "f1s_poly_coef, roc_auc_poly_coef, accuracy_s_poly_coef = get_scores_poly_coef0()\n",
    "\n",
    "plt.figure(1, figsize=(5, 5))\n",
    "plt.plot(coef0, f1s_poly_coef)\n",
    "plt.plot(coef0, roc_auc_poly_coef)\n",
    "plt.plot(coef0, accuracy_s_poly_coef)\n",
    "plt.legend([\"F1\", \"Accuracy\", \"ROC_AUC\"])\n",
    "plt.xlabel(\"coef0 (bias)\")\n",
    "plt.ylabel(\"score\")\n",
    "plt.title(\"Coef0 (bias) influence on Poly kernel metrics\")"
   ],
   "metadata": {
    "collapsed": false,
    "pycharm": {
     "name": "#%%\n"
    }
   }
  },
  {
   "cell_type": "markdown",
   "metadata": {
    "id": "sY8q6JdCDvZK",
    "pycharm": {
     "name": "#%% md\n"
    }
   },
   "source": [
    "## PART 3: Natural Language Processing"
   ]
  },
  {
   "cell_type": "markdown",
   "metadata": {
    "id": "eD4xKhYfDvZK",
    "pycharm": {
     "name": "#%% md\n"
    }
   },
   "source": [
    "#### 7. [1.75 point] Form the dataset\n",
    "\n",
    "We are going to form a dataset that we will use in the following tasks for binary and multiclass classification\n",
    "\n",
    "0. Choose **six** authors that you like (specify who you've chosen) and download the <a href=\"https://www.kaggle.com/d0rj3228/russian-literature?select=prose\">relevant data</a> from **prose** section\n",
    "1. Build your own dataset for these authors: \n",
    "    * divide each text into sentences such that we will have two columns: *sentence* and *target author*, each row will contain one sentence and one target\n",
    "    * drop sentences where N symbols in a sentence < 15\n",
    "    * fix random state and randomly choose sentences in the folowing proportion \"5k : 15k : 8k : 11k : 20k : 3k\" for the authors respectively\n",
    "    \n",
    "    sample data may look like:\n",
    "    \n",
    "    <center> \n",
    "    <table>\n",
    "        <tr>\n",
    "            <th> sentence </th>\n",
    "            <th> author </th>\n",
    "        </tr> \n",
    "        <tr><td> Несколько лет тому назад в одном из своих поместий жил старинный русской барин, Кирила Петрович Троекуров. </td><td> Пушкин </td><td> \n",
    "        <tr><td> Уже более недели приезжий господин жил в городе, разъезжая по вечеринкам и обедам и таким образом проводя, как говорится, очень приятно время. </td><td> Гоголь </td><td> \n",
    "        <tr><td> ... </td><td> ... </td><td> \n",
    "        <tr><td> Я жил недорослем, гоняя голубей и играя в чехарду с дворовыми мальчишками. </td><td> Пушкин </td><td>         \n",
    "    </table>\n",
    "</center>\n",
    "     \n",
    "2. Preprocess (tokenize and clean) the dataset \n",
    "    * tokenize, remove all stop words (nltk.corpus.stopwords), punctuation (string.punctuation) and numbers\n",
    "    * convert to lower case and apply either stemming or lemmatization of the words (on your choice)\n",
    "    * vectorize words using both **bag of words** and **tf-idf** (use sklearn)\n",
    "    * observe and describe the difference between vectorized output (what do numbers look like after transformations and what do they represent?)"
   ]
  },
  {
   "cell_type": "markdown",
   "source": [
    "0. Chosen authors: Chekhov, Dostoevsky, Gogol, Gorky, Lermontov, Turgenev"
   ],
   "metadata": {
    "collapsed": false,
    "pycharm": {
     "name": "#%% md\n"
    }
   }
  },
  {
   "cell_type": "code",
   "execution_count": null,
   "outputs": [],
   "source": [
    "import nltk\n",
    "import string\n",
    "\n",
    "nltk.download('punkt')"
   ],
   "metadata": {
    "collapsed": false,
    "pycharm": {
     "name": "#%%\n"
    }
   }
  },
  {
   "cell_type": "code",
   "execution_count": null,
   "metadata": {
    "id": "NVStbeQ8DvZL",
    "pycharm": {
     "name": "#%%\n"
    }
   },
   "outputs": [],
   "source": [
    "# 1\n",
    "# split into sentences\n",
    "\n",
    "# FIX: ... и названия в начале файлов\n",
    "def split_sentences(text):\n",
    "    sentences = np.array(nltk.sent_tokenize(text, language=\"russian\"))\n",
    "    return sentences\n",
    "\n",
    "\n",
    "def create_data_frame_from_text(text_path):\n",
    "    with open(text_path) as f:\n",
    "        content = f.read()\n",
    "\n",
    "    sentences = np.array(split_sentences(content))\n",
    "    myLengthFunc = np.vectorize(len)\n",
    "    sentences = sentences[np.where(myLengthFunc(sentences) >= 15)]\n",
    "    author = np.full(sentences.shape[0], authors[text_path.split('/')[1]])\n",
    "    return pd.DataFrame({'sentence': sentences, 'author': author})"
   ]
  },
  {
   "cell_type": "code",
   "execution_count": null,
   "outputs": [],
   "source": [
    "authors = {\n",
    "    'Chekhov': 'Чехов',\n",
    "    'Dostoevsky': 'Достоевский',\n",
    "    'Gogol': 'Гоголь',\n",
    "    'Gorky': 'Горький',\n",
    "    'Turgenev': 'Тургенев',\n",
    "    'Lermontov': 'Лермонтов'\n",
    "}"
   ],
   "metadata": {
    "collapsed": false,
    "pycharm": {
     "name": "#%%\n"
    }
   }
  },
  {
   "cell_type": "code",
   "execution_count": null,
   "outputs": [],
   "source": [
    "import glob\n",
    "\n",
    "data = pd.DataFrame({'sentence': [], 'author': []})\n",
    "samples_number = [5000, 15000, 8000, 11000, 20000, 3000]"
   ],
   "metadata": {
    "collapsed": false,
    "pycharm": {
     "name": "#%%\n"
    }
   }
  },
  {
   "cell_type": "code",
   "execution_count": null,
   "outputs": [],
   "source": [
    "np.random.seed(42)\n",
    "\n",
    "i = 0\n",
    "for author in authors:\n",
    "    texts = glob.glob(f\"prose/{author}/*.txt\")\n",
    "    data_author = pd.DataFrame({'sentence': [], 'author': []})\n",
    "    for path in texts:\n",
    "        data_author = pd.concat([data_author, create_data_frame_from_text(path)], ignore_index=True)\n",
    "    data = pd.concat([data, data_author.sample(n=samples_number[i])], ignore_index=True)\n",
    "    i = i + 1"
   ],
   "metadata": {
    "collapsed": false,
    "pycharm": {
     "name": "#%%\n"
    }
   }
  },
  {
   "cell_type": "code",
   "execution_count": null,
   "outputs": [],
   "source": [
    "nltk.download('stopwords')\n",
    "stop_words = nltk.corpus.stopwords.words('russian')\n",
    "\n",
    "# define word tokenizer\n",
    "word_tokenizer = nltk.WordPunctTokenizer()\n",
    "\n",
    "dates = [str(x) for x in np.arange(1900, 2022)]"
   ],
   "metadata": {
    "collapsed": false,
    "pycharm": {
     "name": "#%%\n",
     "is_executing": true
    }
   }
  },
  {
   "cell_type": "code",
   "execution_count": null,
   "outputs": [],
   "source": [
    "# 2\n",
    "import pymorphy2\n",
    "\n",
    "morph = pymorphy2.MorphAnalyzer()\n",
    "\n",
    "\n",
    "def process_text(text):\n",
    "    words = nltk.word_tokenize(text, language='russian')\n",
    "    tokens = [morph.parse(word.lower())[0].normal_form for word in words if (\n",
    "                word not in string.punctuation and word not in stop_words and word not in dates and word != '—' and word != '–' and word != '...' and word != '«' and word != '»' and not word.isnumeric())]\n",
    "\n",
    "    print(words)\n",
    "    return tokens"
   ],
   "metadata": {
    "collapsed": false,
    "pycharm": {
     "name": "#%%\n"
    }
   }
  },
  {
   "cell_type": "code",
   "execution_count": null,
   "outputs": [],
   "source": [
    "\n",
    "process_text(data.iloc[26028][0])"
   ],
   "metadata": {
    "collapsed": false,
    "pycharm": {
     "name": "#%%\n"
    }
   }
  },
  {
   "cell_type": "markdown",
   "metadata": {
    "id": "LuTi3rvnDvZL",
    "pycharm": {
     "name": "#%% md\n"
    }
   },
   "source": [
    "###  Binary classification\n",
    "\n",
    "#### 8. [2 point] Train model using Logistic Regression (your own) and SVC (SVM can be taken from sklearn) \n",
    "\n",
    "* choose *two* authors from the dataset that you have formed in the previous task\n",
    "* check the balance of the classes\n",
    "* divide the data into train and test samples with 0.7 split rate (don't forget to fix the random state)\n",
    "* using GridSearchCV - find the best parameters for the models (by F1 score) and use it in the next tasks\n",
    "* make several plots to address the dependence between F1 score and parameters\n",
    "* plot confusion matrix for train and test samples\n",
    "* compute some relevant metrics for test sample (useful to check the seminars 5 and 6, use sklearn) \n",
    "* make conclusions about the performance of your models\n"
   ]
  },
  {
   "cell_type": "code",
   "execution_count": null,
   "metadata": {
    "id": "XZUP1HqFDvZL",
    "pycharm": {
     "name": "#%%\n"
    }
   },
   "outputs": [],
   "source": [
    "# your code here"
   ]
  },
  {
   "cell_type": "markdown",
   "metadata": {
    "id": "5G1kt0qbDvZL",
    "pycharm": {
     "name": "#%% md\n"
    }
   },
   "source": [
    "#### 9. [1 point] Analysing ROC AUC\n",
    "\n",
    "It is possible to control the proportion of statistical errors of different types using different thresholds for choosing a class. Plot ROC curves for Logistic Regression and SVC, show the threshold on ROC curve plots. Choose such a threshold that your models have no more than 30% of false positive errors rate. Pay attention to `thresholds` parameter in sklearn roc_curve "
   ]
  },
  {
   "cell_type": "code",
   "execution_count": null,
   "metadata": {
    "id": "BZ2GZ8-uDvZL",
    "pycharm": {
     "name": "#%%\n"
    }
   },
   "outputs": [],
   "source": [
    "# your code here"
   ]
  },
  {
   "cell_type": "markdown",
   "metadata": {
    "id": "C-qubaK4DvZM",
    "pycharm": {
     "name": "#%% md\n"
    }
   },
   "source": [
    "### Multiclass logit"
   ]
  },
  {
   "cell_type": "markdown",
   "metadata": {
    "id": "yJQone-LDvZM",
    "pycharm": {
     "name": "#%% md\n"
    }
   },
   "source": [
    "#### 10. [1 point] Take the One-VS-One classifier (use sklearn) and apply to Logit model (one you've made in the 4th task) in order to get multiclass linear classifier\n",
    "\n",
    "<a href=\"https://scikit-learn.org/stable/modules/generated/sklearn.multiclass.OneVsOneClassifier.html\">OneVsOneClassifier</a>\n",
    "\n",
    "* use the data you got at the previous step for 6 authors\n",
    "* divide the data into train and test samples with 0.7 split rate\n",
    "* using GridSearchCV - find the best parameters for the models (by F1 score)\n",
    "* plot confusion matrix for train and test samples\n",
    "* compute all possible and relevant metrics for test sample (use sklearn)"
   ]
  },
  {
   "cell_type": "code",
   "execution_count": null,
   "metadata": {
    "id": "M4lR8qJ7DvZM",
    "pycharm": {
     "name": "#%%\n"
    }
   },
   "outputs": [],
   "source": [
    "# your code here"
   ]
  }
 ],
 "metadata": {
  "colab": {
   "collapsed_sections": [],
   "name": "HW3_v7.ipynb",
   "provenance": []
  },
  "kernelspec": {
   "display_name": "Python 3 (ipykernel)",
   "language": "python",
   "name": "python3"
  },
  "language_info": {
   "codemirror_mode": {
    "name": "ipython",
    "version": 3
   },
   "file_extension": ".py",
   "mimetype": "text/x-python",
   "name": "python",
   "nbconvert_exporter": "python",
   "pygments_lexer": "ipython3",
   "version": "3.9.7"
  }
 },
 "nbformat": 4,
 "nbformat_minor": 1
}