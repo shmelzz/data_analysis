{
 "cells": [
  {
   "cell_type": "markdown",
   "metadata": {
    "pycharm": {
     "name": "#%% md\n"
    }
   },
   "source": [
    "# HSE 2022: Mathematical Methods for Data Analysis\n",
    "\n",
    "## Homework 1"
   ]
  },
  {
   "cell_type": "markdown",
   "metadata": {
    "pycharm": {
     "name": "#%% md\n"
    }
   },
   "source": [
    "### Attention!\n",
    "* For tasks where <ins>text answer</ins> is required **Russian language** is **allowed**.\n",
    "* If a task asks you to describe something (make coclusions) then **text answer** is **mandatory** and **is** part of the task\n",
    "* **Do not** upload the dataset (titanic.csv) to the grading system (we already have it)\n",
    "* We **only** accept **ipynb** notebooks. If you use Google Colab then you'll have to download the notebook before passing the homework\n",
    "* **Do not** use python loops instead of NumPy vector operations over NumPy vectors - it significantly decreases performance (see why https://blog.paperspace.com/numpy-optimization-vectorization-and-broadcasting/), will be punished with -0.25 for **every** task. \n",
    "Loops are only allowed in part 1 (Tasks 1 - 4). \n",
    "* Some tasks contain tests. They only test you solution on a simple example, thus, passing the test does **not** guarantee you the full grade for the task. "
   ]
  },
  {
   "cell_type": "code",
   "execution_count": 96,
   "metadata": {
    "pycharm": {
     "name": "#%%\n"
    }
   },
   "outputs": [],
   "source": [
    "%matplotlib inline\n",
    "import numpy as np\n",
    "import pandas as pd\n",
    "import matplotlib.pyplot as plt\n",
    "import seaborn as sns"
   ]
  },
  {
   "cell_type": "markdown",
   "metadata": {
    "pycharm": {
     "name": "#%% md\n"
    }
   },
   "source": [
    "# 1. Python (2 points) "
   ]
  },
  {
   "cell_type": "markdown",
   "metadata": {
    "pycharm": {
     "name": "#%% md\n"
    }
   },
   "source": [
    "**Task 1** (0.5 points)<br/> \n",
    "Enter nonzero numbers `a`,  `r` and `N`. Find the first `N` members of geometric progression with the first member `a` and factor `r`, without using formula for the product."
   ]
  },
  {
   "cell_type": "code",
   "execution_count": 97,
   "metadata": {
    "pycharm": {
     "name": "#%%\n"
    }
   },
   "outputs": [
    {
     "name": "stdout",
     "output_type": "stream",
     "text": [
      "[2, 6, 18]\n"
     ]
    }
   ],
   "source": [
    "def find_product(a, r, N):\n",
    "    arr_product = [a]\n",
    "    while len(arr_product) < N:\n",
    "        arr_product.append(arr_product[len(arr_product) - 1] * r)\n",
    "    return arr_product\n",
    "\n",
    "\n",
    "a = 2\n",
    "r = 3\n",
    "N = 3\n",
    "print(find_product(a, r, N))"
   ]
  },
  {
   "cell_type": "markdown",
   "metadata": {
    "pycharm": {
     "name": "#%% md\n"
    }
   },
   "source": [
    "**Task 2** (0.5 points) <br/> \n",
    "Enter an integer number `N`. Check if it is a palindrome number. It means that it can be read equally from left to right and from right to back. "
   ]
  },
  {
   "cell_type": "code",
   "execution_count": 98,
   "metadata": {
    "pycharm": {
     "name": "#%%\n"
    }
   },
   "outputs": [
    {
     "name": "stdout",
     "output_type": "stream",
     "text": [
      "3 True\n",
      "81 False\n",
      "111 True\n",
      "113 False\n",
      "810 False\n",
      "2022 False\n",
      "4774 True\n",
      "51315 True\n",
      "611816 False\n"
     ]
    }
   ],
   "source": [
    "def check_palindrome(num):\n",
    "    temp = num\n",
    "    check = 0\n",
    "    while temp > 0:\n",
    "        current_num = temp % 10\n",
    "        check = check * 10 + current_num\n",
    "        temp //= 10\n",
    "    return num == check\n",
    "\n",
    "\n",
    "for N in [3, 81, 111, 113, 810, 2022, 4774, 51315, 611816]:\n",
    "    print(N, check_palindrome(N))"
   ]
  },
  {
   "cell_type": "markdown",
   "metadata": {
    "pycharm": {
     "name": "#%% md\n"
    }
   },
   "source": [
    "**Task 3** (0.5 points) <br/> \n",
    "Find the first `N` palindrome numbers starting from 1000 (you may use the function from the precious task)."
   ]
  },
  {
   "cell_type": "code",
   "execution_count": 99,
   "metadata": {
    "pycharm": {
     "name": "#%%\n"
    }
   },
   "outputs": [
    {
     "name": "stdout",
     "output_type": "stream",
     "text": [
      "[1001, 1111, 1221, 1331, 1441]\n",
      "[1001, 1111, 1221, 1331, 1441, 1551, 1661, 1771, 1881, 1991]\n",
      "[1001, 1111, 1221, 1331, 1441, 1551, 1661, 1771, 1881, 1991, 2002, 2112, 2222, 2332, 2442, 2552, 2662, 2772, 2882, 2992]\n"
     ]
    }
   ],
   "source": [
    "def find_palindromes(N):\n",
    "    palindromes = []\n",
    "    current_num = 1000\n",
    "    while len(palindromes) < N:\n",
    "        if check_palindrome(current_num):\n",
    "            palindromes.append(current_num)\n",
    "        current_num += 1\n",
    "    return palindromes\n",
    "\n",
    "\n",
    "print(find_palindromes(5))\n",
    "print(find_palindromes(10))\n",
    "print(find_palindromes(20))"
   ]
  },
  {
   "cell_type": "markdown",
   "metadata": {
    "pycharm": {
     "name": "#%% md\n"
    }
   },
   "source": [
    "**Task 4** (0.5 points) <br/> \n",
    "There are numbers: `a`, `b`, `c`. Without using functions `min`, `max` and other functions, find the minimum number."
   ]
  },
  {
   "cell_type": "code",
   "execution_count": 100,
   "metadata": {
    "pycharm": {
     "name": "#%%\n"
    }
   },
   "outputs": [
    {
     "name": "stdout",
     "output_type": "stream",
     "text": [
      "-60 -75 -20 \tMinimum: -75\n",
      "34 63 -51 \tMinimum: -51\n",
      "69 -15 -84 \tMinimum: -84\n",
      "17 64 -5 \tMinimum: -5\n",
      "95 37 -71 \tMinimum: -71\n",
      "87 40 35 \tMinimum: 35\n",
      "12 63 22 \tMinimum: 12\n",
      "26 -16 4 \tMinimum: -16\n",
      "-27 -41 25 \tMinimum: -41\n",
      "62 86 -16 \tMinimum: -16\n"
     ]
    }
   ],
   "source": [
    "from random import randint\n",
    "\n",
    "\n",
    "def find_min(a, b, c):\n",
    "    if a < b:\n",
    "        min_ = a\n",
    "    else:\n",
    "        min_ = b\n",
    "\n",
    "    if c < min_:\n",
    "        min_ = c\n",
    "\n",
    "    return min_\n",
    "\n",
    "\n",
    "for i in range(10):\n",
    "    a = randint(-100, 100)\n",
    "    b = randint(-100, 100)\n",
    "    c = randint(-100, 100)\n",
    "\n",
    "    print(a, b, c, '\\tMinimum:', find_min(a, b, c))"
   ]
  },
  {
   "cell_type": "markdown",
   "metadata": {
    "pycharm": {
     "name": "#%% md\n"
    }
   },
   "source": [
    "# 2. Numpy (4 points)"
   ]
  },
  {
   "cell_type": "markdown",
   "metadata": {
    "pycharm": {
     "name": "#%% md\n"
    }
   },
   "source": [
    "**Task 1** (0.5 points) <br/>\n",
    "Create a random array (`np.random.rand()`) with length of 17 and with sum of its elements equals to 6."
   ]
  },
  {
   "cell_type": "code",
   "execution_count": 101,
   "metadata": {
    "pycharm": {
     "name": "#%%\n"
    }
   },
   "outputs": [
    {
     "name": "stdout",
     "output_type": "stream",
     "text": [
      "Length: 17\n",
      "Sum of elements: 6.0\n"
     ]
    }
   ],
   "source": [
    "np.random.seed(42)\n",
    "my_array = np.random.rand(17)\n",
    "my_array /= (np.sum(my_array) / 6)\n",
    "print(f'Length: {len(my_array)}')\n",
    "print(f'Sum of elements: {np.sum(my_array)}')"
   ]
  },
  {
   "cell_type": "markdown",
   "metadata": {
    "pycharm": {
     "name": "#%% md\n"
    }
   },
   "source": [
    "**Task 2** (0.5 points) <br/>\n",
    "Create two random arrays $a$ and $b$ with the same length. \n",
    "\n",
    "Calculate the following distances between the arrays **without using special funcrion. You may only use basic numpy operations (`np.linalg.*` and other high-level ones are prohibited).**:\n",
    "\n",
    "* Manhattan Distance\n",
    "$$ d(a, b) = \\sum_i |a_i - b_i| $$\n",
    "* Euclidean Distance\n",
    "$$ d(a, b) = \\sqrt{\\sum_i (a_i - b_i)^2} $$\n",
    "* Chebyshev Distance\n",
    "$$ d(a, b) = \\underset{i}{max} |a_i - b_i| $$\n",
    "* Cosine Distance\n",
    "$$ d(a, b) = 1 - \\frac{a^\\top b}{||a||_2\\cdot||b||_2} $$\n"
   ]
  },
  {
   "cell_type": "code",
   "execution_count": 102,
   "metadata": {
    "pycharm": {
     "name": "#%%\n"
    }
   },
   "outputs": [],
   "source": [
    "def calculate_manhattan(a, b):\n",
    "    distance = np.sum(np.abs(a - b))\n",
    "    return distance\n",
    "\n",
    "\n",
    "def calculate_euclidean(a, b):\n",
    "    distance = np.sqrt(np.sum(np.square(a - b)))\n",
    "    return distance\n",
    "\n",
    "\n",
    "def calculate_chebyshev(a, b):\n",
    "    distance = np.max(np.abs(a - b))\n",
    "    return distance\n",
    "\n",
    "\n",
    "def calculate_cosine(a, b):\n",
    "    distance = 1 - (np.dot(a, b) / (np.sqrt(np.sum(np.square(a))) * np.sqrt(np.sum(np.square(b)))))\n",
    "    return distance"
   ]
  },
  {
   "cell_type": "code",
   "execution_count": 103,
   "metadata": {
    "pycharm": {
     "name": "#%%\n"
    }
   },
   "outputs": [
    {
     "name": "stdout",
     "output_type": "stream",
     "text": [
      "Manhattan distance: 22\n",
      "Euclidean distance: 8.366600265340756\n",
      "Chebyshev distance: 5\n",
      "Cosine distance: 0.1095088267154255\n"
     ]
    }
   ],
   "source": [
    "np.random.seed(42)\n",
    "a = np.random.randint(10, size=10)\n",
    "b = np.random.randint(10, size=10)\n",
    "\n",
    "print(f'Manhattan distance: {calculate_manhattan(a, b)}')\n",
    "print(f'Euclidean distance: {calculate_euclidean(a, b)}')\n",
    "print(f'Chebyshev distance: {calculate_chebyshev(a, b)}')\n",
    "print(f'Cosine distance: {calculate_cosine(a, b)}')"
   ]
  },
  {
   "cell_type": "markdown",
   "metadata": {
    "pycharm": {
     "name": "#%% md\n"
    }
   },
   "source": [
    "**Task 3** (0.5 points) <br/>\n",
    "Create a random array (`np.random.randint()`) with length of 76. Transform the array so that \n",
    "* Maximum element(s) value is -1\n",
    "* Minimum element(s) value is -4\n",
    "* Other values are in interval (-4; -1) with keeping the order"
   ]
  },
  {
   "cell_type": "code",
   "execution_count": 104,
   "metadata": {
    "pycharm": {
     "name": "#%%\n"
    }
   },
   "outputs": [],
   "source": [
    "def transform(array):\n",
    "    transformed_array = np.arange(start=-4, stop=0)\n",
    "    transformed_array = np.tile(transformed_array, 76 // np.size(transformed_array))\n",
    "    return transformed_array"
   ]
  },
  {
   "cell_type": "code",
   "execution_count": 105,
   "metadata": {
    "pycharm": {
     "name": "#%%\n"
    }
   },
   "outputs": [
    {
     "name": "stdout",
     "output_type": "stream",
     "text": [
      "Min: -4\n",
      "Max: -1\n",
      "Array:\n",
      "[-4 -3 -2 -1 -4 -3 -2 -1 -4 -3 -2 -1 -4 -3 -2 -1 -4 -3 -2 -1 -4 -3 -2 -1\n",
      " -4 -3 -2 -1 -4 -3 -2 -1 -4 -3 -2 -1 -4 -3 -2 -1 -4 -3 -2 -1 -4 -3 -2 -1\n",
      " -4 -3 -2 -1 -4 -3 -2 -1 -4 -3 -2 -1 -4 -3 -2 -1 -4 -3 -2 -1 -4 -3 -2 -1\n",
      " -4 -3 -2 -1]\n"
     ]
    }
   ],
   "source": [
    "my_array = np.random.randint(10, size=76)\n",
    "my_array = transform(my_array)\n",
    "print(f'Min: {np.min(my_array)}')\n",
    "print(f'Max: {np.max(my_array)}')\n",
    "print('Array:')\n",
    "print(my_array)"
   ]
  },
  {
   "cell_type": "markdown",
   "metadata": {
    "pycharm": {
     "name": "#%% md\n"
    }
   },
   "source": [
    "**Task 4** (0.5 points) <br/>\n",
    "Create an array with shape of $8 \\times 5$ with integers from [-7, 43]. Print a column that contains the maximum element of the array."
   ]
  },
  {
   "cell_type": "code",
   "execution_count": 106,
   "metadata": {
    "pycharm": {
     "name": "#%%\n"
    }
   },
   "outputs": [
    {
     "name": "stdout",
     "output_type": "stream",
     "text": [
      "Shape:  (8, 5)\n",
      "Array:\n",
      "[[33 20 -1  1  0]\n",
      " [ 4 26 25 40 15]\n",
      " [16 29 27 36 32]\n",
      " [14 19 27 -7 27]\n",
      " [29 39  6 -5 -7]\n",
      " [-3 18  6 31 19]\n",
      " [ 1  7  7 18 34]\n",
      " [ 5 43 24 31 41]]\n",
      "Selected column(s): \n",
      "[[20]\n",
      " [26]\n",
      " [29]\n",
      " [19]\n",
      " [39]\n",
      " [18]\n",
      " [ 7]\n",
      " [43]]\n"
     ]
    }
   ],
   "source": [
    "my_array = np.random.randint(low=-7, high=44, size=(8, 5))\n",
    "column_index = np.where(my_array == my_array.max())[1]\n",
    "selected_column = my_array[:, column_index]\n",
    "print('Shape: ', my_array.shape)\n",
    "print('Array:')\n",
    "print(my_array)\n",
    "print(f'Selected column(s): \\n{selected_column}')"
   ]
  },
  {
   "cell_type": "markdown",
   "metadata": {
    "pycharm": {
     "name": "#%% md\n"
    }
   },
   "source": [
    "**Task 5** (0.5 points) <br/>\n",
    "\n",
    "Replace all missing values in the following array with median."
   ]
  },
  {
   "cell_type": "code",
   "execution_count": 107,
   "metadata": {
    "pycharm": {
     "name": "#%%\n"
    }
   },
   "outputs": [
    {
     "name": "stdout",
     "output_type": "stream",
     "text": [
      "Array:\n",
      "[0.31435598        nan 0.90756647 0.24929223        nan 0.75555114\n",
      " 0.22879817 0.07697991        nan        nan]\n"
     ]
    }
   ],
   "source": [
    "arr = np.random.rand(10)\n",
    "idx = np.random.randint(0, 10, 4)\n",
    "arr[idx] = np.nan\n",
    "\n",
    "print('Array:')\n",
    "print(arr)"
   ]
  },
  {
   "cell_type": "code",
   "execution_count": 108,
   "metadata": {
    "pycharm": {
     "name": "#%%\n"
    }
   },
   "outputs": [],
   "source": [
    "def replace_missing(arr):\n",
    "    array_without_missing = arr\n",
    "    array_without_missing[np.where(np.isnan(arr))] = np.nanmedian(arr)\n",
    "    return array_without_missing"
   ]
  },
  {
   "cell_type": "code",
   "execution_count": 109,
   "metadata": {
    "pycharm": {
     "name": "#%%\n"
    }
   },
   "outputs": [
    {
     "name": "stdout",
     "output_type": "stream",
     "text": [
      "Array with no missing values:\n",
      "[0.31435598 0.28182411 0.90756647 0.24929223 0.28182411 0.75555114\n",
      " 0.22879817 0.07697991 0.28182411 0.28182411]\n"
     ]
    }
   ],
   "source": [
    "arr = replace_missing(arr)\n",
    "print('Array with no missing values:')\n",
    "print(arr)"
   ]
  },
  {
   "cell_type": "markdown",
   "metadata": {
    "pycharm": {
     "name": "#%% md\n"
    }
   },
   "source": [
    "**Task 6** (0.5 points) <br/>\n",
    "Create a function which takes an image ```X``` (3D array of the shape (n, m, 3)) as an input and returns the mean for all 3 channels (a vector of shape 3)."
   ]
  },
  {
   "cell_type": "code",
   "execution_count": 110,
   "metadata": {
    "pycharm": {
     "name": "#%%\n"
    }
   },
   "outputs": [],
   "source": [
    "def mean_channel(X):\n",
    "    mean_vector = np.mean(X, axis=(0, 1))\n",
    "    return mean_vector"
   ]
  },
  {
   "cell_type": "code",
   "execution_count": 111,
   "metadata": {
    "pycharm": {
     "name": "#%%\n"
    }
   },
   "outputs": [
    {
     "name": "stdout",
     "output_type": "stream",
     "text": [
      "Vector of means: [-1.64988558 -2.3180778  -2.47368421]\n"
     ]
    }
   ],
   "source": [
    "n = 19\n",
    "m = 23\n",
    "X = np.random.randint(-11, 8, size=(n, m, 3))\n",
    "print(f'Vector of means: {mean_channel(X)}')"
   ]
  },
  {
   "cell_type": "markdown",
   "metadata": {
    "pycharm": {
     "name": "#%% md\n"
    }
   },
   "source": [
    "### **Task 7** (1 points) <br/>\n",
    "Create a function which takes a 3D matrix ```X``` as an input and returns all its unique vertical (first axis) layers.\n",
    "\n",
    "Sample input:\n",
    "\n",
    "     ([[[1, 2, 3],\n",
    "        [1, 2, 3],\n",
    "        [1, 2, 3]],\n",
    "\n",
    "       [[4, 5, 6],\n",
    "        [4, 5, 7]\n",
    "        [4, 5, 6]],\n",
    "\n",
    "       [[7, 8, 9],\n",
    "        [7, 8, 9]\n",
    "        [7, 8, 9]]])\n",
    "        \n",
    "Sample output:\n",
    "\n",
    "     ([[[1, 2, 3],\n",
    "        [1, 2, 3]],\n",
    "\n",
    "       [[4, 5, 6],\n",
    "        [4, 5, 7]],\n",
    "\n",
    "       [[7, 8, 9],\n",
    "        [7, 8, 9]]])"
   ]
  },
  {
   "cell_type": "code",
   "execution_count": 112,
   "metadata": {
    "pycharm": {
     "name": "#%%\n"
    }
   },
   "outputs": [],
   "source": [
    "def get_unique_rows(X):\n",
    "    X_unique = np.unique(X, axis = 1)\n",
    "    return X_unique"
   ]
  },
  {
   "cell_type": "code",
   "execution_count": 113,
   "metadata": {
    "pycharm": {
     "name": "#%%\n"
    }
   },
   "outputs": [
    {
     "name": "stdout",
     "output_type": "stream",
     "text": [
      "Matrix:\n",
      "[[[5 5 4]\n",
      "  [4 4 5]\n",
      "  [5 4 5]]\n",
      "\n",
      " [[5 5 4]\n",
      "  [5 5 4]\n",
      "  [4 5 5]]\n",
      "\n",
      " [[4 4 5]\n",
      "  [5 5 5]\n",
      "  [4 5 5]]\n",
      "\n",
      " [[4 5 4]\n",
      "  [5 5 4]\n",
      "  [4 5 5]]\n",
      "\n",
      " [[5 4 5]\n",
      "  [4 4 5]\n",
      "  [4 5 5]]\n",
      "\n",
      " [[5 5 5]\n",
      "  [4 4 5]\n",
      "  [5 4 4]]\n",
      "\n",
      " [[4 4 5]\n",
      "  [5 4 5]\n",
      "  [4 5 4]]\n",
      "\n",
      " [[5 4 4]\n",
      "  [5 4 5]\n",
      "  [5 4 5]]\n",
      "\n",
      " [[5 5 5]\n",
      "  [5 4 5]\n",
      "  [5 5 5]]\n",
      "\n",
      " [[5 4 5]\n",
      "  [4 4 4]\n",
      "  [4 5 4]]\n",
      "\n",
      " [[4 5 5]\n",
      "  [5 4 5]\n",
      "  [5 4 5]]\n",
      "\n",
      " [[5 5 5]\n",
      "  [4 5 5]\n",
      "  [4 5 4]]\n",
      "\n",
      " [[5 4 4]\n",
      "  [4 4 5]\n",
      "  [4 5 4]]\n",
      "\n",
      " [[4 4 5]\n",
      "  [4 5 5]\n",
      "  [5 5 5]]\n",
      "\n",
      " [[5 5 5]\n",
      "  [5 4 4]\n",
      "  [4 4 4]]\n",
      "\n",
      " [[5 5 5]\n",
      "  [5 5 5]\n",
      "  [5 4 4]]\n",
      "\n",
      " [[4 4 5]\n",
      "  [5 5 4]\n",
      "  [5 5 5]]\n",
      "\n",
      " [[4 5 4]\n",
      "  [4 4 4]\n",
      "  [5 4 4]]\n",
      "\n",
      " [[5 5 4]\n",
      "  [5 4 4]\n",
      "  [4 4 5]]]\n",
      "Unique rows:\n"
     ]
    },
    {
     "data": {
      "text/plain": "array([[[4, 4, 5],\n        [5, 4, 5],\n        [5, 5, 4]],\n\n       [[5, 5, 4],\n        [4, 5, 5],\n        [5, 5, 4]],\n\n       [[5, 5, 5],\n        [4, 5, 5],\n        [4, 4, 5]],\n\n       [[5, 5, 4],\n        [4, 5, 5],\n        [4, 5, 4]],\n\n       [[4, 4, 5],\n        [4, 5, 5],\n        [5, 4, 5]],\n\n       [[4, 4, 5],\n        [5, 4, 4],\n        [5, 5, 5]],\n\n       [[5, 4, 5],\n        [4, 5, 4],\n        [4, 4, 5]],\n\n       [[5, 4, 5],\n        [5, 4, 5],\n        [5, 4, 4]],\n\n       [[5, 4, 5],\n        [5, 5, 5],\n        [5, 5, 5]],\n\n       [[4, 4, 4],\n        [4, 5, 4],\n        [5, 4, 5]],\n\n       [[5, 4, 5],\n        [5, 4, 5],\n        [4, 5, 5]],\n\n       [[4, 5, 5],\n        [4, 5, 4],\n        [5, 5, 5]],\n\n       [[4, 4, 5],\n        [4, 5, 4],\n        [5, 4, 4]],\n\n       [[4, 5, 5],\n        [5, 5, 5],\n        [4, 4, 5]],\n\n       [[5, 4, 4],\n        [4, 4, 4],\n        [5, 5, 5]],\n\n       [[5, 5, 5],\n        [5, 4, 4],\n        [5, 5, 5]],\n\n       [[5, 5, 4],\n        [5, 5, 5],\n        [4, 4, 5]],\n\n       [[4, 4, 4],\n        [5, 4, 4],\n        [4, 5, 4]],\n\n       [[5, 4, 4],\n        [4, 4, 5],\n        [5, 5, 4]]])"
     },
     "execution_count": 113,
     "metadata": {},
     "output_type": "execute_result"
    }
   ],
   "source": [
    "X = np.random.randint(4, 6, size=(n, 3, 3))\n",
    "print('Matrix:')\n",
    "print(X)\n",
    "print('Unique rows:')\n",
    "get_unique_rows(X)"
   ]
  },
  {
   "cell_type": "markdown",
   "metadata": {
    "pycharm": {
     "name": "#%% md\n"
    }
   },
   "source": [
    "# 3. Pandas & Visualization (4 points)\n"
   ]
  },
  {
   "cell_type": "markdown",
   "metadata": {
    "pycharm": {
     "name": "#%% md\n"
    }
   },
   "source": [
    "You are going to work with *Titanic* dataset which contains information about passengers of Titanic:\n",
    "- **Survived** - 1 - survived, 0 - died (0); **Target variable**\n",
    "- **pclass** - passengers's class;\n",
    "- **sex** - passengers's sex\n",
    "- **Age** - passengers's age in years\n",
    "- **sibsp**    - is the passenger someones siblings   \n",
    "- **parch**    - is the passenger someones child or parent\n",
    "- **ticket** - ticket number    \n",
    "- **fare** - ticket price    \n",
    "- **cabin** - cabin number\n",
    "- **embarked** - port of Embarkation; C = Cherbourg, Q = Queenstown, S = Southampton\n",
    "\n",
    "**Note** for all visualizations use matplotlib or seaborn but NOT plotly! Plotly's graphics sometimes vanish after saving. In this case the task wont't be graded.\n",
    "\n",
    "**Note** support all your answers with necessary code, computations, vizualization, and explanation. Answers without code and explanation won't be graded.\n",
    "\n",
    "**Task 0** (0 points) \\\n",
    "Load the dataset and print first 5 rows"
   ]
  },
  {
   "cell_type": "code",
   "execution_count": 114,
   "metadata": {
    "pycharm": {
     "name": "#%%\n"
    }
   },
   "outputs": [
    {
     "data": {
      "text/plain": "   PassengerId  Survived  Pclass  \\\n0            1         0       3   \n1            2         1       1   \n2            3         1       3   \n3            4         1       1   \n4            5         0       3   \n\n                                                Name     Sex   Age  SibSp  \\\n0                            Braund, Mr. Owen Harris    male  22.0      1   \n1  Cumings, Mrs. John Bradley (Florence Briggs Th...  female  38.0      1   \n2                             Heikkinen, Miss. Laina  female  26.0      0   \n3       Futrelle, Mrs. Jacques Heath (Lily May Peel)  female  35.0      1   \n4                           Allen, Mr. William Henry    male  35.0      0   \n\n   Parch            Ticket     Fare Cabin Embarked  \n0      0         A/5 21171   7.2500   NaN        S  \n1      0          PC 17599  71.2833   C85        C  \n2      0  STON/O2. 3101282   7.9250   NaN        S  \n3      0            113803  53.1000  C123        S  \n4      0            373450   8.0500   NaN        S  ",
      "text/html": "<div>\n<style scoped>\n    .dataframe tbody tr th:only-of-type {\n        vertical-align: middle;\n    }\n\n    .dataframe tbody tr th {\n        vertical-align: top;\n    }\n\n    .dataframe thead th {\n        text-align: right;\n    }\n</style>\n<table border=\"1\" class=\"dataframe\">\n  <thead>\n    <tr style=\"text-align: right;\">\n      <th></th>\n      <th>PassengerId</th>\n      <th>Survived</th>\n      <th>Pclass</th>\n      <th>Name</th>\n      <th>Sex</th>\n      <th>Age</th>\n      <th>SibSp</th>\n      <th>Parch</th>\n      <th>Ticket</th>\n      <th>Fare</th>\n      <th>Cabin</th>\n      <th>Embarked</th>\n    </tr>\n  </thead>\n  <tbody>\n    <tr>\n      <th>0</th>\n      <td>1</td>\n      <td>0</td>\n      <td>3</td>\n      <td>Braund, Mr. Owen Harris</td>\n      <td>male</td>\n      <td>22.0</td>\n      <td>1</td>\n      <td>0</td>\n      <td>A/5 21171</td>\n      <td>7.2500</td>\n      <td>NaN</td>\n      <td>S</td>\n    </tr>\n    <tr>\n      <th>1</th>\n      <td>2</td>\n      <td>1</td>\n      <td>1</td>\n      <td>Cumings, Mrs. John Bradley (Florence Briggs Th...</td>\n      <td>female</td>\n      <td>38.0</td>\n      <td>1</td>\n      <td>0</td>\n      <td>PC 17599</td>\n      <td>71.2833</td>\n      <td>C85</td>\n      <td>C</td>\n    </tr>\n    <tr>\n      <th>2</th>\n      <td>3</td>\n      <td>1</td>\n      <td>3</td>\n      <td>Heikkinen, Miss. Laina</td>\n      <td>female</td>\n      <td>26.0</td>\n      <td>0</td>\n      <td>0</td>\n      <td>STON/O2. 3101282</td>\n      <td>7.9250</td>\n      <td>NaN</td>\n      <td>S</td>\n    </tr>\n    <tr>\n      <th>3</th>\n      <td>4</td>\n      <td>1</td>\n      <td>1</td>\n      <td>Futrelle, Mrs. Jacques Heath (Lily May Peel)</td>\n      <td>female</td>\n      <td>35.0</td>\n      <td>1</td>\n      <td>0</td>\n      <td>113803</td>\n      <td>53.1000</td>\n      <td>C123</td>\n      <td>S</td>\n    </tr>\n    <tr>\n      <th>4</th>\n      <td>5</td>\n      <td>0</td>\n      <td>3</td>\n      <td>Allen, Mr. William Henry</td>\n      <td>male</td>\n      <td>35.0</td>\n      <td>0</td>\n      <td>0</td>\n      <td>373450</td>\n      <td>8.0500</td>\n      <td>NaN</td>\n      <td>S</td>\n    </tr>\n  </tbody>\n</table>\n</div>"
     },
     "execution_count": 114,
     "metadata": {},
     "output_type": "execute_result"
    }
   ],
   "source": [
    "dataset = pd.read_csv('titanic.csv')\n",
    "dataset.head(5)"
   ]
  },
  {
   "cell_type": "markdown",
   "metadata": {
    "pycharm": {
     "name": "#%% md\n"
    }
   },
   "source": [
    "**Task 1** (1 points) <br/>\n",
    "Answer the following questions:\n",
    "    \n",
    "    * Are there any missing values? In what columns?\n",
    "    * What is the percentage of survived passengers? Are the classes balanced?\n",
    "    * Were there more males or females?\n",
    "    * What what the least popular port of embarkation?\n",
    "    * How many classes (pclass) were there on Tinanic?\n",
    "    * What is the overall average ticket fare? And for every class?\n",
    "Please, write not only the answers but the code, proving it."
   ]
  },
  {
   "cell_type": "code",
   "execution_count": 115,
   "metadata": {
    "pycharm": {
     "name": "#%%\n"
    }
   },
   "outputs": [
    {
     "name": "stdout",
     "output_type": "stream",
     "text": [
      "Columns with missing values: ['Age', 'Cabin', 'Embarked']\n",
      "\n"
     ]
    }
   ],
   "source": [
    "#1 Are there any missing values? In what columns?\n",
    "print(f'Columns with missing values: {dataset.columns[dataset.isna().any()].tolist()}\\n')"
   ]
  },
  {
   "cell_type": "code",
   "execution_count": 116,
   "outputs": [
    {
     "name": "stdout",
     "output_type": "stream",
     "text": [
      "Percentage of survived(1) and died(0)\n",
      "0    61.616162\n",
      "1    38.383838\n",
      "Name: Survived, dtype: float64\n"
     ]
    }
   ],
   "source": [
    "#2 What is the percentage of survived passengers? Are the classes balanced?\n",
    "print('Percentage of survived(1) and died(0)')\n",
    "print(dataset['Survived'].value_counts(normalize=True) * 100)"
   ],
   "metadata": {
    "collapsed": false,
    "pycharm": {
     "name": "#%%\n"
    }
   }
  },
  {
   "cell_type": "markdown",
   "source": [
    "Так как процентное соотношение классов примерно 62% и 38%, можно сказать, что классы не сбалансированы, но не критически."
   ],
   "metadata": {
    "collapsed": false,
    "pycharm": {
     "name": "#%% md\n"
    }
   }
  },
  {
   "cell_type": "code",
   "execution_count": 117,
   "outputs": [
    {
     "name": "stdout",
     "output_type": "stream",
     "text": [
      "There were more: \n",
      "male\n"
     ]
    }
   ],
   "source": [
    "#3 Were there more males or females?\n",
    "print('There were more: ')\n",
    "print(dataset['Sex'].value_counts().idxmax())"
   ],
   "metadata": {
    "collapsed": false,
    "pycharm": {
     "name": "#%%\n"
    }
   }
  },
  {
   "cell_type": "code",
   "execution_count": 118,
   "outputs": [
    {
     "name": "stdout",
     "output_type": "stream",
     "text": [
      "Least popular port of embarkation:\n",
      "Q\n"
     ]
    }
   ],
   "source": [
    "#4 What was the least popular port of embarkation?\n",
    "print('Least popular port of embarkation:')\n",
    "print(dataset['Embarked'].value_counts().idxmin())"
   ],
   "metadata": {
    "collapsed": false,
    "pycharm": {
     "name": "#%%\n"
    }
   }
  },
  {
   "cell_type": "code",
   "execution_count": 119,
   "outputs": [
    {
     "name": "stdout",
     "output_type": "stream",
     "text": [
      "Classes types number:\n",
      "3\n"
     ]
    }
   ],
   "source": [
    "#5 How many classes (pclass) were there on Tinanic?\n",
    "print('Classes types number:')\n",
    "print(dataset['Pclass'].value_counts().size)"
   ],
   "metadata": {
    "collapsed": false,
    "pycharm": {
     "name": "#%%\n"
    }
   }
  },
  {
   "cell_type": "code",
   "execution_count": 120,
   "outputs": [
    {
     "name": "stdout",
     "output_type": "stream",
     "text": [
      "Overall average ticket fare:\n",
      "32.2042079685746\n",
      "Class 1 Average ticket fare:\n",
      "84.15468749999992\n",
      "Class 2 Average ticket fare:\n",
      "20.66218315217391\n",
      "Class 3 Average ticket fare:\n",
      "13.675550101832997\n"
     ]
    }
   ],
   "source": [
    "#6 What is the overall average ticket fare? And for every class?\n",
    "print('Overall average ticket fare:')\n",
    "print(dataset['Fare'].mean())\n",
    "print('Class 1 Average ticket fare:')\n",
    "print(dataset.loc[dataset['Pclass'] == 1, 'Fare'].mean())\n",
    "print('Class 2 Average ticket fare:')\n",
    "print(dataset.loc[dataset['Pclass'] == 2, 'Fare'].mean())\n",
    "print('Class 3 Average ticket fare:')\n",
    "print(dataset.loc[dataset['Pclass'] == 3, 'Fare'].mean())"
   ],
   "metadata": {
    "collapsed": false,
    "pycharm": {
     "name": "#%%\n"
    }
   }
  },
  {
   "cell_type": "markdown",
   "metadata": {
    "pycharm": {
     "name": "#%% md\n"
    }
   },
   "source": [
    "**Task 2** (0.5 points) <br/>\n",
    "Visualize age distribution (you may use a histogram, for example). \n",
    "\n",
    "    * What is the minimal and maximum ages of the passengers? Visualize it on the plot\n",
    "    * What is the mean age? And among males and females sepatately? Visualize it on the plot\n",
    "    * Make conclusions about what you see on the plot"
   ]
  },
  {
   "cell_type": "code",
   "execution_count": 121,
   "metadata": {
    "pycharm": {
     "name": "#%%\n"
    }
   },
   "outputs": [
    {
     "data": {
      "text/plain": "<Figure size 720x360 with 1 Axes>",
      "image/png": "[encoded data removed]"
     },
     "metadata": {
      "needs_background": "light"
     },
     "output_type": "display_data"
    }
   ],
   "source": [
    "# What is the minimal and maximum ages of the passengers? Visualize it on the plot\n",
    "plt.figure(1, figsize=(10,5))\n",
    "plt.hist(dataset['Age'], bins = 80)\n",
    "plt.title('Age')\n",
    "plt.show()"
   ]
  },
  {
   "cell_type": "code",
   "execution_count": 122,
   "outputs": [
    {
     "name": "stdout",
     "output_type": "stream",
     "text": [
      "Min age:  0.42\n"
     ]
    }
   ],
   "source": [
    "print('Min age: ', dataset['Age'].min())"
   ],
   "metadata": {
    "collapsed": false,
    "pycharm": {
     "name": "#%%\n"
    }
   }
  },
  {
   "cell_type": "markdown",
   "source": [
    "На графике видно, что минимальный возраст чуть больше 0 лет. Максимальный возраст - 80."
   ],
   "metadata": {
    "collapsed": false,
    "pycharm": {
     "name": "#%% md\n"
    }
   }
  },
  {
   "cell_type": "code",
   "execution_count": 123,
   "outputs": [
    {
     "data": {
      "text/plain": "<Figure size 432x288 with 1 Axes>",
      "image/png": "[encoded data removed]"
     },
     "metadata": {
      "needs_background": "light"
     },
     "output_type": "display_data"
    },
    {
     "name": "stdout",
     "output_type": "stream",
     "text": [
      "Mean age:  29.69911764705882\n"
     ]
    }
   ],
   "source": [
    "# What is the mean age?\n",
    "dataset['Age'].plot(kind='box', title='Age')\n",
    "plt.show()\n",
    "print('Mean age: ', dataset['Age'].mean())"
   ],
   "metadata": {
    "collapsed": false,
    "pycharm": {
     "name": "#%%\n"
    }
   }
  },
  {
   "cell_type": "markdown",
   "source": [
    "На графике видно, что средний возраст около 28-29 лет."
   ],
   "metadata": {
    "collapsed": false,
    "pycharm": {
     "name": "#%% md\n"
    }
   }
  },
  {
   "cell_type": "code",
   "execution_count": 124,
   "outputs": [
    {
     "name": "stdout",
     "output_type": "stream",
     "text": [
      "The mean age female:  27.915708812260537\n",
      "The mean age male:  30.72664459161148\n"
     ]
    },
    {
     "data": {
      "text/plain": "<Figure size 432x288 with 2 Axes>",
      "image/png": "[encoded data removed]"
     },
     "metadata": {
      "needs_background": "light"
     },
     "output_type": "display_data"
    }
   ],
   "source": [
    "# And among males and females sepatately? Visualize it on the plot\n",
    "print('The mean age female: ', dataset['Age'].where(dataset['Sex'] == 'female').mean())\n",
    "print('The mean age male: ', dataset['Age'].where(dataset['Sex'] == 'male').mean())\n",
    "dataset.groupby(\"Sex\").boxplot(column = \"Age\")\n",
    "plt.show()"
   ],
   "metadata": {
    "collapsed": false,
    "pycharm": {
     "name": "#%%\n"
    }
   }
  },
  {
   "cell_type": "markdown",
   "source": [
    "На графиках видны примерные средние возроста для мужчин и для женщин."
   ],
   "metadata": {
    "collapsed": false,
    "pycharm": {
     "name": "#%% md\n"
    }
   }
  },
  {
   "cell_type": "markdown",
   "source": [
    "Вывод: на корабле преимущественно были люди в возрасте от 15 до 35, так же довольно много маленьких детей. Мин. возраст - меньше года, макс. - 80 лет. Очень мало людей старше 65 (выбросы на boxplot). Средний возраст мужчин больше среднего возраста женщин. У мужчин больше возрастных аномальных выбросов, чем у женщин."
   ],
   "metadata": {
    "collapsed": false,
    "pycharm": {
     "name": "#%% md\n"
    }
   }
  },
  {
   "cell_type": "markdown",
   "metadata": {
    "pycharm": {
     "name": "#%% md\n"
    }
   },
   "source": [
    "**Task 3** (1 points) <br/>\n",
    "Find all the titles of the passengers (example, *Capt., Mr.,Mme.*), which are written in the column Name, and answer the following questions:\n",
    "\n",
    "    * How many are there unique titles?\n",
    "    * How many are there passengers with every title?\n",
    "    * What is the most popular man's title? And woman's title?\n",
    "    \n",
    "**Hint** You may select the title from the name as a word which contains a dot."
   ]
  },
  {
   "cell_type": "code",
   "execution_count": 125,
   "outputs": [],
   "source": [
    "def get_title(string):\n",
    "    before_dot, after_dot = string.split(\".\", 1)\n",
    "    return before_dot.split()[-1]"
   ],
   "metadata": {
    "collapsed": false,
    "pycharm": {
     "name": "#%%\n"
    }
   }
  },
  {
   "cell_type": "code",
   "execution_count": 126,
   "metadata": {
    "pycharm": {
     "name": "#%%\n"
    }
   },
   "outputs": [
    {
     "name": "stdout",
     "output_type": "stream",
     "text": [
      "Number of unique titles:  17\n"
     ]
    }
   ],
   "source": [
    "# How many are there unique titles?\n",
    "unique = dataset['Name'].apply(get_title)\n",
    "print('Number of unique titles: ', unique.nunique())"
   ]
  },
  {
   "cell_type": "code",
   "execution_count": 127,
   "outputs": [
    {
     "name": "stdout",
     "output_type": "stream",
     "text": [
      "Titles:\n",
      "Mr          517\n",
      "Miss        182\n",
      "Mrs         125\n",
      "Master       40\n",
      "Dr            7\n",
      "Rev           6\n",
      "Mlle          2\n",
      "Major         2\n",
      "Col           2\n",
      "Countess      1\n",
      "Capt          1\n",
      "Ms            1\n",
      "Sir           1\n",
      "Lady          1\n",
      "Mme           1\n",
      "Don           1\n",
      "Jonkheer      1\n",
      "Name: Name, dtype: int64\n"
     ]
    }
   ],
   "source": [
    "# How many are there passengers with every title?\n",
    "print('Titles:')\n",
    "print(unique.value_counts())"
   ],
   "metadata": {
    "collapsed": false,
    "pycharm": {
     "name": "#%%\n"
    }
   }
  },
  {
   "cell_type": "code",
   "execution_count": 128,
   "outputs": [
    {
     "name": "stdout",
     "output_type": "stream",
     "text": [
      "Most popular male title: Mr\n",
      "Most popular female title: Miss\n"
     ]
    }
   ],
   "source": [
    "# What is the most popular man's title? And woman's title?\n",
    "print('Most popular male title:', unique[dataset['Sex'] == 'male'].value_counts().idxmax())\n",
    "print('Most popular female title:', unique[dataset['Sex'] == 'female'].value_counts().idxmax())"
   ],
   "metadata": {
    "collapsed": false,
    "pycharm": {
     "name": "#%%\n"
    }
   }
  },
  {
   "cell_type": "markdown",
   "metadata": {
    "pycharm": {
     "name": "#%% md\n"
    }
   },
   "source": [
    "**Task 4** (0.5 points) <br/>\n",
    "Is there correlation between *pclass* and *ticket price*? Calculate mean price for each port and visualize prize distribution for each port. Make conclusions about what you see on the plot\n",
    "\n",
    "Hint: you could make one or several plot types i.e.  box, violine, pair, histogram (see additional notebooks for Seminar 1 \"Visualization with Seaborn\"). main point here is to **choose** plots wisely and **make meaningful conclusions**\n",
    "\n"
   ]
  },
  {
   "cell_type": "code",
   "execution_count": 129,
   "metadata": {
    "pycharm": {
     "name": "#%%\n"
    }
   },
   "outputs": [
    {
     "name": "stdout",
     "output_type": "stream",
     "text": [
      "Price-class correlation: -0.5494996199439077\n"
     ]
    }
   ],
   "source": [
    "# Is there correlation between pclass and ticket price?\n",
    "print('Price-class correlation:', dataset['Pclass'].corr(dataset['Fare']))"
   ]
  },
  {
   "cell_type": "code",
   "execution_count": 130,
   "outputs": [
    {
     "name": "stdout",
     "output_type": "stream",
     "text": [
      "Ticket price mean for each class: \n",
      "Pclass\n",
      "1    84.154687\n",
      "2    20.662183\n",
      "3    13.675550\n",
      "Name: Fare, dtype: float64\n"
     ]
    }
   ],
   "source": [
    "# Calculate mean price for each class and visualize price distribution for each class.\n",
    "print('Ticket price mean for each class: ')\n",
    "print(dataset.groupby(\"Pclass\")['Fare'].mean())"
   ],
   "metadata": {
    "collapsed": false,
    "pycharm": {
     "name": "#%%\n"
    }
   }
  },
  {
   "cell_type": "code",
   "execution_count": 131,
   "outputs": [
    {
     "data": {
      "text/plain": "<Figure size 1440x504 with 3 Axes>",
      "image/png": "[encoded data removed]"
     },
     "metadata": {
      "needs_background": "light"
     },
     "output_type": "display_data"
    }
   ],
   "source": [
    "plt.figure(1, figsize=(20,7))\n",
    "mask = dataset['Pclass'] == 1\n",
    "tmp = dataset[mask]\n",
    "plt.subplot(131)\n",
    "plt.hist(tmp['Fare'], bins=20)\n",
    "plt.title('Price distribution for class 1')\n",
    "plt.xlabel('Price')\n",
    "\n",
    "mask = dataset['Pclass'] == 2\n",
    "tmp = dataset[mask]\n",
    "plt.subplot(132)\n",
    "plt.hist(tmp['Fare'], bins=15)\n",
    "plt.title('Price distribution for class 2')\n",
    "plt.xlabel('Price')\n",
    "\n",
    "mask = dataset['Pclass'] == 3\n",
    "tmp = dataset[mask]\n",
    "plt.subplot(133)\n",
    "plt.hist(tmp['Fare'], bins=15)\n",
    "plt.title('Price distribution for class 3')\n",
    "plt.xlabel('Price')\n",
    "\n",
    "plt.show()"
   ],
   "metadata": {
    "collapsed": false,
    "pycharm": {
     "name": "#%%\n"
    }
   }
  },
  {
   "cell_type": "markdown",
   "source": [
    "Выводы: отрицательная корреляция показывает, что чем выше число, указывающее на класс, тем меньше стоит билет.\n",
    "Так же на графиках видно, что цены для 1 класса в основном варьируются до 300, но есть выбросы в большую сторону.\n",
    "Никто из пассажиров 2 и 3 классов не заплатил больше 80 долларов.\n",
    "В каждом классе есть ценовые выбросы.\n"
   ],
   "metadata": {
    "collapsed": false,
    "pycharm": {
     "name": "#%% md\n"
    }
   }
  },
  {
   "cell_type": "markdown",
   "metadata": {
    "pycharm": {
     "name": "#%% md\n"
    }
   },
   "source": [
    "**Task 5** (0.5 points) <br/>\n",
    "The same question as in task 4 about correlation between *embarked* and *ticket priсe*."
   ]
  },
  {
   "cell_type": "code",
   "execution_count": 132,
   "metadata": {
    "pycharm": {
     "name": "#%%\n"
    }
   },
   "outputs": [
    {
     "name": "stdout",
     "output_type": "stream",
     "text": [
      "Price-port correlation: -0.23036457312463027\n"
     ]
    }
   ],
   "source": [
    "# Is there correlation between port and ticket price?\n",
    "dataset['Embarked_category'] = dataset['Embarked'].astype('category').cat.codes\n",
    "print('Price-port correlation:', dataset['Embarked_category'].corr(dataset['Fare']))"
   ]
  },
  {
   "cell_type": "code",
   "execution_count": 133,
   "outputs": [
    {
     "name": "stdout",
     "output_type": "stream",
     "text": [
      "Ticket price mean for each port: \n",
      "Embarked\n",
      "C    59.954144\n",
      "Q    13.276030\n",
      "S    27.079812\n",
      "Name: Fare, dtype: float64\n"
     ]
    }
   ],
   "source": [
    "# Calculate mean price for each port and visualize price distribution for each port.\n",
    "print('Ticket price mean for each port: ')\n",
    "print(dataset.groupby(\"Embarked\")['Fare'].mean())"
   ],
   "metadata": {
    "collapsed": false,
    "pycharm": {
     "name": "#%%\n"
    }
   }
  },
  {
   "cell_type": "code",
   "execution_count": 134,
   "outputs": [
    {
     "data": {
      "text/plain": "<Figure size 1440x504 with 3 Axes>",
      "image/png": "[encoded data removed]"
     },
     "metadata": {
      "needs_background": "light"
     },
     "output_type": "display_data"
    }
   ],
   "source": [
    "plt.figure(1, figsize=(20,7))\n",
    "mask = dataset['Embarked'] == 'C'\n",
    "tmp = dataset[mask]\n",
    "plt.subplot(131)\n",
    "plt.hist(tmp['Fare'], bins=15)\n",
    "plt.title('Price distribution for port C')\n",
    "plt.xlabel('Price')\n",
    "\n",
    "mask = dataset['Embarked'] == 'Q'\n",
    "tmp = dataset[mask]\n",
    "plt.subplot(132)\n",
    "plt.hist(tmp['Fare'], bins=15)\n",
    "plt.title('Price distribution for port Q')\n",
    "plt.xlabel('Price')\n",
    "\n",
    "mask = dataset['Embarked'] == 'S'\n",
    "tmp = dataset[mask]\n",
    "plt.subplot(133)\n",
    "plt.hist(tmp['Fare'], bins=15)\n",
    "plt.title('Price distribution for port S')\n",
    "plt.xlabel('Price')\n",
    "\n",
    "plt.show()"
   ],
   "metadata": {
    "collapsed": false,
    "pycharm": {
     "name": "#%%\n"
    }
   }
  },
  {
   "cell_type": "markdown",
   "source": [
    "Выводы: самые дорогие билеты с отправлением из порта C. Порт Q - с самыми дешевыми билетами.\n",
    "В порту Q есть выбросы, отличающиеся от основыных значений примерно в 3 раза.\n",
    "В каждом порту были ценовые выбросы, больше всего в порту S."
   ],
   "metadata": {
    "collapsed": false,
    "pycharm": {
     "name": "#%% md\n"
    }
   }
  },
  {
   "cell_type": "markdown",
   "metadata": {
    "pycharm": {
     "name": "#%% md\n"
    }
   },
   "source": [
    "**Task 6** (0.5 points) <br/>\n",
    "Visualize age distribution for survived and not survived passengers separately and calculate the mean age for each class. Are they different? Provide the same visualization for males and females separately. Make conclusions about what you see on the plots"
   ]
  },
  {
   "cell_type": "code",
   "execution_count": 135,
   "metadata": {
    "pycharm": {
     "name": "#%%\n"
    }
   },
   "outputs": [
    {
     "data": {
      "text/plain": "<Figure size 720x360 with 2 Axes>",
      "image/png": "[encoded data removed]"
     },
     "metadata": {
      "needs_background": "light"
     },
     "output_type": "display_data"
    }
   ],
   "source": [
    "plt.figure(1, figsize=(10,5))\n",
    "mask_survived = dataset['Survived'] == 1\n",
    "tmp_survived = dataset[mask_survived]\n",
    "survived_mean = tmp_survived['Age'].mean()\n",
    "\n",
    "plt.subplot(121)\n",
    "plt.hist(tmp_survived['Age'], bins=15)\n",
    "plt.title('Age distribution for survived')\n",
    "plt.xlabel('Age')\n",
    "\n",
    "mask_not_survived = dataset['Survived'] == 0\n",
    "tmp_not_survived = dataset[mask_not_survived]\n",
    "dead_mean = tmp_not_survived['Age'].mean()\n",
    "\n",
    "plt.subplot(122)\n",
    "plt.hist(tmp_not_survived['Age'], bins=15)\n",
    "plt.title('Age distribution for not survived')\n",
    "plt.xlabel('Age')\n",
    "\n",
    "plt.show()"
   ]
  },
  {
   "cell_type": "code",
   "execution_count": 136,
   "outputs": [
    {
     "name": "stdout",
     "output_type": "stream",
     "text": [
      "Means: for survived = 28.343689655172415, for not survived = 30.62617924528302\n"
     ]
    }
   ],
   "source": [
    "print(f'Means: for survived = {survived_mean}, for not survived = {dead_mean}')"
   ],
   "metadata": {
    "collapsed": false,
    "pycharm": {
     "name": "#%%\n"
    }
   }
  },
  {
   "cell_type": "markdown",
   "source": [
    "Средние возраста выживших и погибших не равны, но их значения очень близки друг к другу.\n",
    "Большинство выживших - в возрасте от 20 до 30, так же много выживших детей.\n",
    "Большинство погибших - в возрасте от 15 до 35, в числе погибших мало детей."
   ],
   "metadata": {
    "collapsed": false,
    "pycharm": {
     "name": "#%% md\n"
    }
   }
  },
  {
   "cell_type": "code",
   "execution_count": 137,
   "outputs": [
    {
     "data": {
      "text/plain": "<Figure size 1440x720 with 4 Axes>",
      "image/png": "[encoded data removed]"
     },
     "metadata": {
      "needs_background": "light"
     },
     "output_type": "display_data"
    }
   ],
   "source": [
    "plt.figure(1, figsize=(20,10))\n",
    "# male survived\n",
    "mask_male = tmp_survived['Sex'] == 'male'\n",
    "tmp_male = tmp_survived[mask_male]\n",
    "male_mean_surv = tmp_male['Age'].mean()\n",
    "\n",
    "plt.subplot(221)\n",
    "plt.hist(tmp_male['Age'], bins=15)\n",
    "plt.title('Age distribution for survived males')\n",
    "plt.xlabel('Age')\n",
    "\n",
    "# female survived\n",
    "mask_female = tmp_survived['Sex'] == 'female'\n",
    "tmp_female = tmp_survived[mask_female]\n",
    "female_mean_surv = tmp_male['Age'].mean()\n",
    "\n",
    "plt.subplot(222)\n",
    "plt.hist(tmp_female['Age'], bins=15)\n",
    "plt.title('Age distribution for survived females')\n",
    "plt.xlabel('Age')\n",
    "\n",
    "# male not survived\n",
    "mask_male = tmp_not_survived['Sex'] == 'male'\n",
    "tmp_male = tmp_not_survived[mask_male]\n",
    "male_mean_not_surv = tmp_male['Age'].mean()\n",
    "\n",
    "plt.subplot(223)\n",
    "plt.hist(tmp_male['Age'], bins=15)\n",
    "plt.title('Age distribution for not survived males')\n",
    "plt.xlabel('Age')\n",
    "\n",
    "# female not survived\n",
    "mask_female = tmp_not_survived['Sex'] == 'female'\n",
    "tmp_female = tmp_not_survived[mask_female]\n",
    "female_mean_not_surv = tmp_female['Age'].mean()\n",
    "\n",
    "plt.subplot(224)\n",
    "plt.hist(tmp_female['Age'], bins=15)\n",
    "plt.title('Age distribution for not survived females')\n",
    "plt.xlabel('Age')\n",
    "\n",
    "plt.show()"
   ],
   "metadata": {
    "collapsed": false,
    "pycharm": {
     "name": "#%%\n"
    }
   }
  },
  {
   "cell_type": "code",
   "execution_count": 138,
   "outputs": [
    {
     "name": "stdout",
     "output_type": "stream",
     "text": [
      "Means for survived: for males = 27.276021505376345, for females = 27.276021505376345\n",
      "Means for not survived: for males = 31.618055555555557, for females = 25.046875\n"
     ]
    }
   ],
   "source": [
    "print(f'Means for survived: for males = {male_mean_surv}, for females = {female_mean_surv}')\n",
    "print(f'Means for not survived: for males = {male_mean_not_surv}, for females = {female_mean_not_surv}')"
   ],
   "metadata": {
    "collapsed": false,
    "pycharm": {
     "name": "#%%\n"
    }
   }
  },
  {
   "cell_type": "markdown",
   "source": [
    "Вывод: кол-во погибших женщин, в сравнении с мужчинами, не очень велико.\n",
    "Кол-во выживших мужчин больше всего в детском и среднем возрасте около 30 лет.\n",
    "Есть выбросы в возрасте выживших мужчин.\n",
    "Возраст, с которого кол-во невыживших мужчин резко возрастает - 15 лет."
   ],
   "metadata": {
    "collapsed": false,
    "pycharm": {
     "name": "#%% md\n"
    }
   }
  }
 ],
 "metadata": {
  "kernelspec": {
   "display_name": "Python 3 (ipykernel)",
   "language": "python",
   "name": "python3"
  },
  "language_info": {
   "codemirror_mode": {
    "name": "ipython",
    "version": 3
   },
   "file_extension": ".py",
   "mimetype": "text/x-python",
   "name": "python",
   "nbconvert_exporter": "python",
   "pygments_lexer": "ipython3",
   "version": "3.9.7"
  }
 },
 "nbformat": 4,
 "nbformat_minor": 4
}